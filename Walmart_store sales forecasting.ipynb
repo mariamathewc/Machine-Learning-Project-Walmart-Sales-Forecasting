{
  "nbformat": 4,
  "nbformat_minor": 0,
  "metadata": {
    "colab": {
      "name": "Walmart draft2.ipynb",
      "version": "0.3.2",
      "provenance": []
    },
    "kernelspec": {
      "name": "python3",
      "display_name": "Python 3"
    }
  },
  "cells": [
    {
      "cell_type": "markdown",
      "metadata": {
        "id": "VopR5G_F6fJ9",
        "colab_type": "text"
      },
      "source": [
        "# ** WALMART STORE SALES FORECASTING** **"
      ]
    },
    {
      "cell_type": "code",
      "metadata": {
        "id": "uB1tCh8U6K_K",
        "colab_type": "code",
        "outputId": "a54fe18f-0020-4a1c-ec0b-fd7b61c41258",
        "colab": {
          "base_uri": "https://localhost:8080/",
          "height": 84
        }
      },
      "source": [
        "'''Import necessary packages'''\n",
        "from keras.models import Sequential\n",
        "from keras.layers import Dense\n",
        "from sklearn.neighbors import KNeighborsRegressor\n",
        "from sklearn.ensemble import GradientBoostingRegressor\n",
        "from sklearn.ensemble import RandomForestRegressor\n",
        "from sklearn.linear_model import LogisticRegressionCV\n",
        "from sklearn.metrics import mean_absolute_error # somewhat sensitive to outliers\n",
        "from sklearn.metrics import median_absolute_error # insensitive to outliers\n",
        "from sklearn.model_selection import train_test_split\n",
        "import seaborn as sns\n",
        "import numpy as np\n",
        "import pandas as pd\n",
        "from pandas.api.types import is_string_dtype,is_numeric_dtype\n",
        "from sklearn import preprocessing\n",
        "from sklearn.externals import joblib\n",
        "from matplotlib import pyplot as plt\n",
        "import seaborn as sns\n",
        "!pip install joblib\n",
        "import joblib\n",
        "!pip install xgboost\n",
        "from xgboost import XGBRegressor\n",
        "\n",
        "%matplotlib inline"
      ],
      "execution_count": 0,
      "outputs": [
        {
          "output_type": "stream",
          "text": [
            "Requirement already satisfied: joblib in /usr/local/lib/python3.6/dist-packages (0.13.2)\n",
            "Requirement already satisfied: xgboost in /usr/local/lib/python3.6/dist-packages (0.90)\n",
            "Requirement already satisfied: scipy in /usr/local/lib/python3.6/dist-packages (from xgboost) (1.3.0)\n",
            "Requirement already satisfied: numpy in /usr/local/lib/python3.6/dist-packages (from xgboost) (1.16.4)\n"
          ],
          "name": "stdout"
        }
      ]
    },
    {
      "cell_type": "markdown",
      "metadata": {
        "id": "CQYfgiEF-sPC",
        "colab_type": "text"
      },
      "source": [
        "#  Reading data into the notebook"
      ]
    },
    {
      "cell_type": "code",
      "metadata": {
        "id": "N_xYHX1L6L_t",
        "colab_type": "code",
        "outputId": "95a0971e-7209-4161-a133-8e53e1d3c919",
        "colab": {
          "resources": {
            "http://localhost:8080/nbextensions/google.colab/files.js": {
              "data": "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",
              "ok": true,
              "headers": [
                [
                  "content-type",
                  "application/javascript"
                ]
              ],
              "status": 200,
              "status_text": ""
            }
          },
          "base_uri": "https://localhost:8080/",
          "height": 74
        }
      },
      "source": [
        "from google.colab import files\n",
        "uploaded = files.upload()"
      ],
      "execution_count": 0,
      "outputs": [
        {
          "output_type": "display_data",
          "data": {
            "text/html": [
              "\n",
              "     <input type=\"file\" id=\"files-1cd9d1b0-3124-4b15-8257-bc5d522ed186\" name=\"files[]\" multiple disabled />\n",
              "     <output id=\"result-1cd9d1b0-3124-4b15-8257-bc5d522ed186\">\n",
              "      Upload widget is only available when the cell has been executed in the\n",
              "      current browser session. Please rerun this cell to enable.\n",
              "      </output>\n",
              "      <script src=\"/nbextensions/google.colab/files.js\"></script> "
            ],
            "text/plain": [
              "<IPython.core.display.HTML object>"
            ]
          },
          "metadata": {
            "tags": []
          }
        },
        {
          "output_type": "stream",
          "text": [
            "Saving train.csv to train.csv\n"
          ],
          "name": "stdout"
        }
      ]
    },
    {
      "cell_type": "code",
      "metadata": {
        "id": "PTVcuk5Q6MC_",
        "colab_type": "code",
        "colab": {}
      },
      "source": [
        "import io\n",
        "train_df = pd.read_csv(io.BytesIO(uploaded['train.csv']))\n",
        "# Dataset is now stored in a Pandas Dataframe"
      ],
      "execution_count": 0,
      "outputs": []
    },
    {
      "cell_type": "code",
      "metadata": {
        "id": "P-X3XE-86MVT",
        "colab_type": "code",
        "outputId": "e3efb06b-965b-478f-f264-8b02afaea91f",
        "colab": {
          "base_uri": "https://localhost:8080/",
          "height": 153
        }
      },
      "source": [
        "print(train_df.shape)\n",
        "train_df.head(3)"
      ],
      "execution_count": 0,
      "outputs": [
        {
          "output_type": "stream",
          "text": [
            "(421570, 5)\n"
          ],
          "name": "stdout"
        },
        {
          "output_type": "execute_result",
          "data": {
            "text/html": [
              "<div>\n",
              "<style scoped>\n",
              "    .dataframe tbody tr th:only-of-type {\n",
              "        vertical-align: middle;\n",
              "    }\n",
              "\n",
              "    .dataframe tbody tr th {\n",
              "        vertical-align: top;\n",
              "    }\n",
              "\n",
              "    .dataframe thead th {\n",
              "        text-align: right;\n",
              "    }\n",
              "</style>\n",
              "<table border=\"1\" class=\"dataframe\">\n",
              "  <thead>\n",
              "    <tr style=\"text-align: right;\">\n",
              "      <th></th>\n",
              "      <th>Store</th>\n",
              "      <th>Dept</th>\n",
              "      <th>Date</th>\n",
              "      <th>Weekly_Sales</th>\n",
              "      <th>IsHoliday</th>\n",
              "    </tr>\n",
              "  </thead>\n",
              "  <tbody>\n",
              "    <tr>\n",
              "      <th>0</th>\n",
              "      <td>1</td>\n",
              "      <td>1</td>\n",
              "      <td>2010-02-05</td>\n",
              "      <td>24924.50</td>\n",
              "      <td>False</td>\n",
              "    </tr>\n",
              "    <tr>\n",
              "      <th>1</th>\n",
              "      <td>1</td>\n",
              "      <td>1</td>\n",
              "      <td>2010-02-12</td>\n",
              "      <td>46039.49</td>\n",
              "      <td>True</td>\n",
              "    </tr>\n",
              "    <tr>\n",
              "      <th>2</th>\n",
              "      <td>1</td>\n",
              "      <td>1</td>\n",
              "      <td>2010-02-19</td>\n",
              "      <td>41595.55</td>\n",
              "      <td>False</td>\n",
              "    </tr>\n",
              "  </tbody>\n",
              "</table>\n",
              "</div>"
            ],
            "text/plain": [
              "   Store  Dept        Date  Weekly_Sales  IsHoliday\n",
              "0      1     1  2010-02-05      24924.50      False\n",
              "1      1     1  2010-02-12      46039.49       True\n",
              "2      1     1  2010-02-19      41595.55      False"
            ]
          },
          "metadata": {
            "tags": []
          },
          "execution_count": 17
        }
      ]
    },
    {
      "cell_type": "markdown",
      "metadata": {
        "id": "Q4J4MuX1-i9E",
        "colab_type": "text"
      },
      "source": [
        "# **PRE-PROCESS DATA**"
      ]
    },
    {
      "cell_type": "markdown",
      "metadata": {
        "id": "07NgsRDS-5Wh",
        "colab_type": "text"
      },
      "source": [
        "1. Sorting & train-test split"
      ]
    },
    {
      "cell_type": "code",
      "metadata": {
        "id": "B3yanPZk-ojZ",
        "colab_type": "code",
        "outputId": "c8482b7d-7106-4f2c-dd74-33316460a5ad",
        "colab": {
          "base_uri": "https://localhost:8080/",
          "height": 118
        }
      },
      "source": [
        "# Sorting data based on date\n",
        "train_df.sort_values(by = [\"Date\"],inplace = True)\n",
        "print(train_df.head(5))"
      ],
      "execution_count": 0,
      "outputs": [
        {
          "output_type": "stream",
          "text": [
            "        Store  Dept        Date  Weekly_Sales  IsHoliday\n",
            "0           1     1  2010-02-05      24924.50      False\n",
            "277665     29     5  2010-02-05      15552.08      False\n",
            "277808     29     6  2010-02-05       3200.22      False\n",
            "277951     29     7  2010-02-05      10820.05      False\n",
            "278094     29     8  2010-02-05      20055.64      False\n"
          ],
          "name": "stdout"
        }
      ]
    },
    {
      "cell_type": "code",
      "metadata": {
        "id": "3UEwtF0U-omn",
        "colab_type": "code",
        "colab": {}
      },
      "source": [
        "'''Define functions to split data,'''\n",
        "\n",
        "def split_df(df,num):\n",
        "    return df[ :num].copy(),df[num: ].copy()"
      ],
      "execution_count": 0,
      "outputs": []
    },
    {
      "cell_type": "code",
      "metadata": {
        "id": "PLOucbSY_E8Z",
        "colab_type": "code",
        "colab": {}
      },
      "source": [
        "# Convert date to datetime\n",
        "train_df['Date'] = pd.to_datetime(train_df['Date'])"
      ],
      "execution_count": 0,
      "outputs": []
    },
    {
      "cell_type": "code",
      "metadata": {
        "id": "c73lUTtx_E-5",
        "colab_type": "code",
        "outputId": "bbaf6d20-5caf-4bcd-aa07-362f5ad945b6",
        "colab": {
          "base_uri": "https://localhost:8080/",
          "height": 34
        }
      },
      "source": [
        "df_train_valid,df_test = split_df(train_df,305000)\n",
        "\n",
        "print(df_train_valid.shape,df_test.shape)"
      ],
      "execution_count": 0,
      "outputs": [
        {
          "output_type": "stream",
          "text": [
            "(305000, 5) (116570, 5)\n"
          ],
          "name": "stdout"
        }
      ]
    },
    {
      "cell_type": "markdown",
      "metadata": {
        "id": "WwdR5WX4_Odp",
        "colab_type": "text"
      },
      "source": [
        "# **Data Exploration**"
      ]
    },
    {
      "cell_type": "code",
      "metadata": {
        "id": "FKRCRN4B_FB1",
        "colab_type": "code",
        "outputId": "ae2870b9-b95a-4ff9-b802-979994d7a086",
        "colab": {
          "base_uri": "https://localhost:8080/",
          "height": 466
        }
      },
      "source": [
        "''' Deal with missing values. Calculating the percentage of\n",
        "missing values for every column, and plot them as a bar chart'''\n",
        "\n",
        "null_vals = df_train_valid.isnull().sum()/len(df_train_valid)*100\n",
        "null_vals = pd.DataFrame(null_vals)\n",
        "null_vals.reset_index(inplace = True)\n",
        "null_vals.columns = [\"Feature\",\"Percent missing\"]\n",
        "plt.figure(figsize = (8,6))\n",
        "plt.xticks(rotation=45)\n",
        "plt.title('Features Vs Null Value')\n",
        "sns.barplot(x = \"Feature\",y =\"Percent missing\",data = null_vals)"
      ],
      "execution_count": 0,
      "outputs": [
        {
          "output_type": "execute_result",
          "data": {
            "text/plain": [
              "<matplotlib.axes._subplots.AxesSubplot at 0x7f9373d30be0>"
            ]
          },
          "metadata": {
            "tags": []
          },
          "execution_count": 22
        },
        {
          "output_type": "display_data",
          "data": {
            "image/png": "[encoded data removed]",
            "text/plain": [
              "<Figure size 576x432 with 1 Axes>"
            ]
          },
          "metadata": {
            "tags": []
          }
        }
      ]
    },
    {
      "cell_type": "code",
      "metadata": {
        "id": "PjUeoteX_FE4",
        "colab_type": "code",
        "colab": {}
      },
      "source": [
        "def scatter(df_train_valid, column):\n",
        "    plt.figure()\n",
        "    plt.scatter(df_train_valid[column] , df_train_valid['Weekly_Sales'])\n",
        "    plt.ylabel('weeklySales')\n",
        "    plt.xlabel(column)"
      ],
      "execution_count": 0,
      "outputs": []
    },
    {
      "cell_type": "code",
      "metadata": {
        "id": "QiNsIR0s_ZUU",
        "colab_type": "code",
        "outputId": "934c6c6f-e790-49e6-da05-4f8739de09ae",
        "colab": {
          "base_uri": "https://localhost:8080/",
          "height": 283
        }
      },
      "source": [
        "scatter(df_train_valid, 'IsHoliday')"
      ],
      "execution_count": 0,
      "outputs": [
        {
          "output_type": "display_data",
          "data": {
            "image/png": "[encoded data removed]",
            "text/plain": [
              "<Figure size 432x288 with 1 Axes>"
            ]
          },
          "metadata": {
            "tags": []
          }
        }
      ]
    },
    {
      "cell_type": "code",
      "metadata": {
        "id": "BXtgOfaw_ZWz",
        "colab_type": "code",
        "outputId": "8911a608-286d-4bc0-a92b-5bf15c22c457",
        "colab": {
          "base_uri": "https://localhost:8080/",
          "height": 34
        }
      },
      "source": [
        "'''From the graph, we can see that maximum sale occured on holiday '''"
      ],
      "execution_count": 0,
      "outputs": [
        {
          "output_type": "execute_result",
          "data": {
            "text/plain": [
              "'From the graph, we can see that maximum sale occured on holiday '"
            ]
          },
          "metadata": {
            "tags": []
          },
          "execution_count": 25
        }
      ]
    },
    {
      "cell_type": "code",
      "metadata": {
        "id": "sGGmEHuz_ZZO",
        "colab_type": "code",
        "outputId": "3fb55b63-7669-4723-98c0-322805d49877",
        "colab": {
          "base_uri": "https://localhost:8080/",
          "height": 283
        }
      },
      "source": [
        "scatter(df_train_valid, 'Store')"
      ],
      "execution_count": 0,
      "outputs": [
        {
          "output_type": "display_data",
          "data": {
            "image/png": "[encoded data removed]",
            "text/plain": [
              "<Figure size 432x288 with 1 Axes>"
            ]
          },
          "metadata": {
            "tags": []
          }
        }
      ]
    },
    {
      "cell_type": "code",
      "metadata": {
        "id": "nMwSSm4G_Zcv",
        "colab_type": "code",
        "outputId": "f70791ff-fa78-4f22-fb07-19cc75dcabbf",
        "colab": {
          "base_uri": "https://localhost:8080/",
          "height": 34
        }
      },
      "source": [
        "'''From the graph, we can deduct that maximum sale occurs in store 10  '''"
      ],
      "execution_count": 0,
      "outputs": [
        {
          "output_type": "execute_result",
          "data": {
            "text/plain": [
              "'From the graph, we can deduct that maximum sale occurs in store 10  '"
            ]
          },
          "metadata": {
            "tags": []
          },
          "execution_count": 27
        }
      ]
    },
    {
      "cell_type": "code",
      "metadata": {
        "id": "nkBjl2DJ_qJk",
        "colab_type": "code",
        "outputId": "8a06d50f-214f-4494-d2c6-8e6b0be8a8ae",
        "colab": {
          "base_uri": "https://localhost:8080/",
          "height": 283
        }
      },
      "source": [
        "scatter(df_train_valid, 'Dept')"
      ],
      "execution_count": 0,
      "outputs": [
        {
          "output_type": "display_data",
          "data": {
            "image/png": "[encoded data removed]",
            "text/plain": [
              "<Figure size 432x288 with 1 Axes>"
            ]
          },
          "metadata": {
            "tags": []
          }
        }
      ]
    },
    {
      "cell_type": "code",
      "metadata": {
        "id": "znSglWdx_qL6",
        "colab_type": "code",
        "outputId": "7331c22a-c818-47f9-e6dd-16b70788b7fd",
        "colab": {
          "base_uri": "https://localhost:8080/",
          "height": 34
        }
      },
      "source": [
        "'''From the graph, we can deduct that maximum sale occurs in dept 72. Majority of the weekly sale is below 200000 '''"
      ],
      "execution_count": 0,
      "outputs": [
        {
          "output_type": "execute_result",
          "data": {
            "text/plain": [
              "'From the graph, we can deduct that maximum sale occurs in dept 72. Majority of the weekly sale is below 200000 '"
            ]
          },
          "metadata": {
            "tags": []
          },
          "execution_count": 29
        }
      ]
    },
    {
      "cell_type": "markdown",
      "metadata": {
        "id": "riTpbVd4_0Ki",
        "colab_type": "text"
      },
      "source": [
        "# **Confirming our observations**"
      ]
    },
    {
      "cell_type": "code",
      "metadata": {
        "id": "46Fb-HSD_qOi",
        "colab_type": "code",
        "outputId": "fab4c119-c3aa-4c42-eaad-1fb66ecda2b1",
        "colab": {
          "base_uri": "https://localhost:8080/",
          "height": 168
        }
      },
      "source": [
        "'''Here we can see the maximum weekly_sale is 693099.360000. Also an interesting observation is \n",
        "that weekly_sale contains NEGATIVE VALUE which is not acceptable. So we need remove records with negative\n",
        "weekly sale from our dataframe'''\n",
        "df_train_valid[\"Weekly_Sales\"].describe()"
      ],
      "execution_count": 0,
      "outputs": [
        {
          "output_type": "execute_result",
          "data": {
            "text/plain": [
              "count    305000.000000\n",
              "mean      16044.279683\n",
              "std       22922.901520\n",
              "min       -4988.940000\n",
              "25%        2120.045000\n",
              "50%        7665.375000\n",
              "75%       20246.832500\n",
              "max      693099.360000\n",
              "Name: Weekly_Sales, dtype: float64"
            ]
          },
          "metadata": {
            "tags": []
          },
          "execution_count": 30
        }
      ]
    },
    {
      "cell_type": "code",
      "metadata": {
        "id": "xijKNRwx_qQ0",
        "colab_type": "code",
        "outputId": "62a85d85-62cc-4579-f4ec-aebcc3975f17",
        "colab": {
          "base_uri": "https://localhost:8080/",
          "height": 77
        }
      },
      "source": [
        "max_weekly_sale = df_train_valid[df_train_valid[\"Weekly_Sales\"] == 693099.360000]\n",
        "max_weekly_sale"
      ],
      "execution_count": 0,
      "outputs": [
        {
          "output_type": "execute_result",
          "data": {
            "text/html": [
              "<div>\n",
              "<style scoped>\n",
              "    .dataframe tbody tr th:only-of-type {\n",
              "        vertical-align: middle;\n",
              "    }\n",
              "\n",
              "    .dataframe tbody tr th {\n",
              "        vertical-align: top;\n",
              "    }\n",
              "\n",
              "    .dataframe thead th {\n",
              "        text-align: right;\n",
              "    }\n",
              "</style>\n",
              "<table border=\"1\" class=\"dataframe\">\n",
              "  <thead>\n",
              "    <tr style=\"text-align: right;\">\n",
              "      <th></th>\n",
              "      <th>Store</th>\n",
              "      <th>Dept</th>\n",
              "      <th>Date</th>\n",
              "      <th>Weekly_Sales</th>\n",
              "      <th>IsHoliday</th>\n",
              "    </tr>\n",
              "  </thead>\n",
              "  <tbody>\n",
              "    <tr>\n",
              "      <th>95373</th>\n",
              "      <td>10</td>\n",
              "      <td>72</td>\n",
              "      <td>2010-11-26</td>\n",
              "      <td>693099.36</td>\n",
              "      <td>True</td>\n",
              "    </tr>\n",
              "  </tbody>\n",
              "</table>\n",
              "</div>"
            ],
            "text/plain": [
              "       Store  Dept       Date  Weekly_Sales  IsHoliday\n",
              "95373     10    72 2010-11-26     693099.36       True"
            ]
          },
          "metadata": {
            "tags": []
          },
          "execution_count": 31
        }
      ]
    },
    {
      "cell_type": "markdown",
      "metadata": {
        "id": "Z0eywmyY__1z",
        "colab_type": "text"
      },
      "source": [
        "# **Correlations between different variables in a dataframe:**"
      ]
    },
    {
      "cell_type": "code",
      "metadata": {
        "id": "PhzqJNp4_qUP",
        "colab_type": "code",
        "outputId": "ade4cde5-5015-4ca4-96c1-a63041b8bd0a",
        "colab": {
          "base_uri": "https://localhost:8080/",
          "height": 830
        }
      },
      "source": [
        "fig = plt.figure(figsize=(18, 14))\n",
        "corr = df_train_valid.corr()\n",
        "c = plt.pcolor(corr)\n",
        "plt.yticks(np.arange(0.5, len(corr.index), 1), corr.index)\n",
        "plt.xticks(np.arange(0.5, len(corr.columns), 1), corr.columns)\n",
        "fig.colorbar(c)"
      ],
      "execution_count": 0,
      "outputs": [
        {
          "output_type": "execute_result",
          "data": {
            "text/plain": [
              "<matplotlib.colorbar.Colorbar at 0x7f936f8fa4e0>"
            ]
          },
          "metadata": {
            "tags": []
          },
          "execution_count": 32
        },
        {
          "output_type": "display_data",
          "data": {
            "image/png": "[encoded data removed]",
            "text/plain": [
              "<Figure size 1296x1008 with 2 Axes>"
            ]
          },
          "metadata": {
            "tags": []
          }
        }
      ]
    },
    {
      "cell_type": "markdown",
      "metadata": {
        "id": "JacX1LicAJUT",
        "colab_type": "text"
      },
      "source": [
        "# **2. Drop records with negative weekly sale**"
      ]
    },
    {
      "cell_type": "code",
      "metadata": {
        "id": "YnUa1lsdAKt0",
        "colab_type": "code",
        "outputId": "669e014d-705e-485c-eaac-e22c57802462",
        "colab": {
          "base_uri": "https://localhost:8080/",
          "height": 34
        }
      },
      "source": [
        "'''There are 913 records that contains weekly sale with negative value. Let us next check if there are any records \n",
        "with 0 weekly sale'''\n",
        "\n",
        "neg_weekly_sale=df_train_valid[df_train_valid.Weekly_Sales < 0]\n",
        "print (neg_weekly_sale.shape)"
      ],
      "execution_count": 0,
      "outputs": [
        {
          "output_type": "stream",
          "text": [
            "(913, 5)\n"
          ],
          "name": "stdout"
        }
      ]
    },
    {
      "cell_type": "code",
      "metadata": {
        "id": "qfhH_EC8AKxN",
        "colab_type": "code",
        "outputId": "b8c904c0-34e6-437d-8026-4a8ceff967e4",
        "colab": {
          "base_uri": "https://localhost:8080/",
          "height": 34
        }
      },
      "source": [
        "'''We can see that there are 58 records with 0 weekly sale.'''\n",
        "zero_weekly_sale = df_train_valid[df_train_valid[\"Weekly_Sales\"] == 0]\n",
        "print (zero_weekly_sale.shape)"
      ],
      "execution_count": 0,
      "outputs": [
        {
          "output_type": "stream",
          "text": [
            "(58, 5)\n"
          ],
          "name": "stdout"
        }
      ]
    },
    {
      "cell_type": "code",
      "metadata": {
        "id": "GjeP9Z8sAUcM",
        "colab_type": "code",
        "outputId": "26cca641-b983-4b66-cff4-8b79b8fe5d83",
        "colab": {
          "base_uri": "https://localhost:8080/",
          "height": 34
        }
      },
      "source": [
        "''' The negative weekly sale may be due to the misplaced negative sign while entering/inserting the weekly sale.\n",
        "Since we cannot make assumptions, we are dropping these records '''\n",
        "df_train_valid_1=df_train_valid[df_train_valid.Weekly_Sales >= 0]\n",
        "print (df_train_valid_1.shape)"
      ],
      "execution_count": 0,
      "outputs": [
        {
          "output_type": "stream",
          "text": [
            "(304087, 5)\n"
          ],
          "name": "stdout"
        }
      ]
    },
    {
      "cell_type": "code",
      "metadata": {
        "id": "szehyxB5AUej",
        "colab_type": "code",
        "outputId": "b1761f7a-ce75-4544-cc46-de520ea9fd48",
        "colab": {
          "base_uri": "https://localhost:8080/",
          "height": 284
        }
      },
      "source": [
        "df_train_valid_1.describe()"
      ],
      "execution_count": 0,
      "outputs": [
        {
          "output_type": "execute_result",
          "data": {
            "text/html": [
              "<div>\n",
              "<style scoped>\n",
              "    .dataframe tbody tr th:only-of-type {\n",
              "        vertical-align: middle;\n",
              "    }\n",
              "\n",
              "    .dataframe tbody tr th {\n",
              "        vertical-align: top;\n",
              "    }\n",
              "\n",
              "    .dataframe thead th {\n",
              "        text-align: right;\n",
              "    }\n",
              "</style>\n",
              "<table border=\"1\" class=\"dataframe\">\n",
              "  <thead>\n",
              "    <tr style=\"text-align: right;\">\n",
              "      <th></th>\n",
              "      <th>Store</th>\n",
              "      <th>Dept</th>\n",
              "      <th>Weekly_Sales</th>\n",
              "    </tr>\n",
              "  </thead>\n",
              "  <tbody>\n",
              "    <tr>\n",
              "      <th>count</th>\n",
              "      <td>304087.000000</td>\n",
              "      <td>304087.000000</td>\n",
              "      <td>304087.000000</td>\n",
              "    </tr>\n",
              "    <tr>\n",
              "      <th>mean</th>\n",
              "      <td>22.177153</td>\n",
              "      <td>44.168412</td>\n",
              "      <td>16092.672786</td>\n",
              "    </tr>\n",
              "    <tr>\n",
              "      <th>std</th>\n",
              "      <td>12.782614</td>\n",
              "      <td>30.447426</td>\n",
              "      <td>22940.238125</td>\n",
              "    </tr>\n",
              "    <tr>\n",
              "      <th>min</th>\n",
              "      <td>1.000000</td>\n",
              "      <td>1.000000</td>\n",
              "      <td>0.000000</td>\n",
              "    </tr>\n",
              "    <tr>\n",
              "      <th>25%</th>\n",
              "      <td>11.000000</td>\n",
              "      <td>18.000000</td>\n",
              "      <td>2157.470000</td>\n",
              "    </tr>\n",
              "    <tr>\n",
              "      <th>50%</th>\n",
              "      <td>22.000000</td>\n",
              "      <td>37.000000</td>\n",
              "      <td>7715.350000</td>\n",
              "    </tr>\n",
              "    <tr>\n",
              "      <th>75%</th>\n",
              "      <td>33.000000</td>\n",
              "      <td>72.000000</td>\n",
              "      <td>20303.785000</td>\n",
              "    </tr>\n",
              "    <tr>\n",
              "      <th>max</th>\n",
              "      <td>45.000000</td>\n",
              "      <td>99.000000</td>\n",
              "      <td>693099.360000</td>\n",
              "    </tr>\n",
              "  </tbody>\n",
              "</table>\n",
              "</div>"
            ],
            "text/plain": [
              "               Store           Dept   Weekly_Sales\n",
              "count  304087.000000  304087.000000  304087.000000\n",
              "mean       22.177153      44.168412   16092.672786\n",
              "std        12.782614      30.447426   22940.238125\n",
              "min         1.000000       1.000000       0.000000\n",
              "25%        11.000000      18.000000    2157.470000\n",
              "50%        22.000000      37.000000    7715.350000\n",
              "75%        33.000000      72.000000   20303.785000\n",
              "max        45.000000      99.000000  693099.360000"
            ]
          },
          "metadata": {
            "tags": []
          },
          "execution_count": 36
        }
      ]
    },
    {
      "cell_type": "markdown",
      "metadata": {
        "id": "a_Qr3oH6Adb4",
        "colab_type": "text"
      },
      "source": [
        "# **3. Splitting dates and processing data**"
      ]
    },
    {
      "cell_type": "code",
      "metadata": {
        "id": "H2wMmDyVAUh9",
        "colab_type": "code",
        "colab": {}
      },
      "source": [
        "'''Define functions to preprocess data - split dates, categorize, impute'''\n",
        "\n",
        "def split_dates(df,date_column):\n",
        "    date_df = pd.DataFrame({\"year\": df[date_column].dt.year,\n",
        "              \"month\": df[date_column].dt.month,\n",
        "              \"day\": df[date_column].dt.day,\n",
        "              \"dayofyear\": df[date_column].dt.dayofyear,\n",
        "              \"week\": df[date_column].dt.week,\n",
        "              \"weekofyear\": df[date_column].dt.weekofyear,\n",
        "              \"dayofweek\": df[date_column].dt.dayofweek,\n",
        "              \"weekday\": df[date_column].dt.weekday,\n",
        "              \"quarter\": df[date_column].dt.quarter,\n",
        "             })\n",
        "    df = df.drop(date_column,axis = 1)\n",
        "    df = pd.concat([df,date_df],axis = 1)\n",
        "    return df\n",
        "\n",
        "def str_to_cat(my_df):\n",
        "    for p,q in my_df.items(): #my_df.items() is a generator in Python\n",
        "        if is_string_dtype(q): \n",
        "            my_df[p] = q.astype('category').cat.as_ordered()\n",
        "    return my_df\n",
        "def mydf_to_nums(my_df, feature, null_status):\n",
        "    if not is_numeric_dtype(feature):\n",
        "        my_df[null_status] = feature.cat.codes + 1\n",
        "        \n",
        "def mydf_imputer(my_df, feature, null_status, null_table):\n",
        "    if is_numeric_dtype(feature):\n",
        "        if pd.isnull(feature).sum() or (null_status in null_table):\n",
        "            my_df[null_status+'_na'] = pd.isnull(feature)\n",
        "            filler = null_table[null_status] if null_status in null_table else feature.median()\n",
        "            my_df[null_status] = feature.fillna(filler)\n",
        "            null_table[null_status] = filler\n",
        "    return null_table   \n",
        "\n",
        "def mydf_preprocessor(my_df, null_table):\n",
        "    '''null_table  = your table or None'''\n",
        "    \n",
        "    if null_table is None: \n",
        "        null_table = dict()\n",
        "    for p,q in my_df.items(): \n",
        "        null_table = mydf_imputer(my_df, q, p, null_table)\n",
        "    for p,q in my_df.items(): \n",
        "        mydf_to_nums(my_df, q, p)\n",
        "    my_df = pd.get_dummies(my_df, dummy_na = True)\n",
        "    res = [my_df, null_table]\n",
        "    return res"
      ],
      "execution_count": 0,
      "outputs": []
    },
    {
      "cell_type": "code",
      "metadata": {
        "id": "F2wNpfiAAaBj",
        "colab_type": "code",
        "outputId": "2f3edc4e-8dd3-4804-f95d-706098c2b56b",
        "colab": {
          "base_uri": "https://localhost:8080/",
          "height": 34
        }
      },
      "source": [
        "# Splitting dates\n",
        "df_train_valid_2 = split_dates(df_train_valid_1,\"Date\")\n",
        "print(df_train_valid_2.shape)"
      ],
      "execution_count": 0,
      "outputs": [
        {
          "output_type": "stream",
          "text": [
            "(304087, 13)\n"
          ],
          "name": "stdout"
        }
      ]
    },
    {
      "cell_type": "code",
      "metadata": {
        "id": "Z0Bkc_oLAaD9",
        "colab_type": "code",
        "outputId": "413bb753-6bca-4994-dd6e-2115dff42686",
        "colab": {
          "base_uri": "https://localhost:8080/",
          "height": 153
        }
      },
      "source": [
        "# Converting string to category\n",
        "df_train_valid_3 = str_to_cat(df_train_valid_2)\n",
        "print(df_train_valid_3.shape)\n",
        "df_train_valid_3.head(3)"
      ],
      "execution_count": 0,
      "outputs": [
        {
          "output_type": "stream",
          "text": [
            "(304087, 13)\n"
          ],
          "name": "stdout"
        },
        {
          "output_type": "execute_result",
          "data": {
            "text/html": [
              "<div>\n",
              "<style scoped>\n",
              "    .dataframe tbody tr th:only-of-type {\n",
              "        vertical-align: middle;\n",
              "    }\n",
              "\n",
              "    .dataframe tbody tr th {\n",
              "        vertical-align: top;\n",
              "    }\n",
              "\n",
              "    .dataframe thead th {\n",
              "        text-align: right;\n",
              "    }\n",
              "</style>\n",
              "<table border=\"1\" class=\"dataframe\">\n",
              "  <thead>\n",
              "    <tr style=\"text-align: right;\">\n",
              "      <th></th>\n",
              "      <th>Store</th>\n",
              "      <th>Dept</th>\n",
              "      <th>Weekly_Sales</th>\n",
              "      <th>IsHoliday</th>\n",
              "      <th>year</th>\n",
              "      <th>month</th>\n",
              "      <th>day</th>\n",
              "      <th>dayofyear</th>\n",
              "      <th>week</th>\n",
              "      <th>weekofyear</th>\n",
              "      <th>dayofweek</th>\n",
              "      <th>weekday</th>\n",
              "      <th>quarter</th>\n",
              "    </tr>\n",
              "  </thead>\n",
              "  <tbody>\n",
              "    <tr>\n",
              "      <th>0</th>\n",
              "      <td>1</td>\n",
              "      <td>1</td>\n",
              "      <td>24924.50</td>\n",
              "      <td>False</td>\n",
              "      <td>2010</td>\n",
              "      <td>2</td>\n",
              "      <td>5</td>\n",
              "      <td>36</td>\n",
              "      <td>5</td>\n",
              "      <td>5</td>\n",
              "      <td>4</td>\n",
              "      <td>4</td>\n",
              "      <td>1</td>\n",
              "    </tr>\n",
              "    <tr>\n",
              "      <th>277665</th>\n",
              "      <td>29</td>\n",
              "      <td>5</td>\n",
              "      <td>15552.08</td>\n",
              "      <td>False</td>\n",
              "      <td>2010</td>\n",
              "      <td>2</td>\n",
              "      <td>5</td>\n",
              "      <td>36</td>\n",
              "      <td>5</td>\n",
              "      <td>5</td>\n",
              "      <td>4</td>\n",
              "      <td>4</td>\n",
              "      <td>1</td>\n",
              "    </tr>\n",
              "    <tr>\n",
              "      <th>277808</th>\n",
              "      <td>29</td>\n",
              "      <td>6</td>\n",
              "      <td>3200.22</td>\n",
              "      <td>False</td>\n",
              "      <td>2010</td>\n",
              "      <td>2</td>\n",
              "      <td>5</td>\n",
              "      <td>36</td>\n",
              "      <td>5</td>\n",
              "      <td>5</td>\n",
              "      <td>4</td>\n",
              "      <td>4</td>\n",
              "      <td>1</td>\n",
              "    </tr>\n",
              "  </tbody>\n",
              "</table>\n",
              "</div>"
            ],
            "text/plain": [
              "        Store  Dept  Weekly_Sales  ...  dayofweek  weekday  quarter\n",
              "0           1     1      24924.50  ...          4        4        1\n",
              "277665     29     5      15552.08  ...          4        4        1\n",
              "277808     29     6       3200.22  ...          4        4        1\n",
              "\n",
              "[3 rows x 13 columns]"
            ]
          },
          "metadata": {
            "tags": []
          },
          "execution_count": 39
        }
      ]
    },
    {
      "cell_type": "code",
      "metadata": {
        "id": "Pn0r1aYxAaGW",
        "colab_type": "code",
        "outputId": "a1d68add-b50d-42df-c2b3-3b765c97c727",
        "colab": {
          "base_uri": "https://localhost:8080/",
          "height": 153
        }
      },
      "source": [
        "# Imputing null values. From data exploration graphs we can see that there are no null values in the train dataframe.\n",
        "train_processed,my_table = mydf_preprocessor(df_train_valid_3,null_table = None)\n",
        "print(train_processed.shape)\n",
        "train_processed.head(3)"
      ],
      "execution_count": 0,
      "outputs": [
        {
          "output_type": "stream",
          "text": [
            "(304087, 13)\n"
          ],
          "name": "stdout"
        },
        {
          "output_type": "execute_result",
          "data": {
            "text/html": [
              "<div>\n",
              "<style scoped>\n",
              "    .dataframe tbody tr th:only-of-type {\n",
              "        vertical-align: middle;\n",
              "    }\n",
              "\n",
              "    .dataframe tbody tr th {\n",
              "        vertical-align: top;\n",
              "    }\n",
              "\n",
              "    .dataframe thead th {\n",
              "        text-align: right;\n",
              "    }\n",
              "</style>\n",
              "<table border=\"1\" class=\"dataframe\">\n",
              "  <thead>\n",
              "    <tr style=\"text-align: right;\">\n",
              "      <th></th>\n",
              "      <th>Store</th>\n",
              "      <th>Dept</th>\n",
              "      <th>Weekly_Sales</th>\n",
              "      <th>IsHoliday</th>\n",
              "      <th>year</th>\n",
              "      <th>month</th>\n",
              "      <th>day</th>\n",
              "      <th>dayofyear</th>\n",
              "      <th>week</th>\n",
              "      <th>weekofyear</th>\n",
              "      <th>dayofweek</th>\n",
              "      <th>weekday</th>\n",
              "      <th>quarter</th>\n",
              "    </tr>\n",
              "  </thead>\n",
              "  <tbody>\n",
              "    <tr>\n",
              "      <th>0</th>\n",
              "      <td>1</td>\n",
              "      <td>1</td>\n",
              "      <td>24924.50</td>\n",
              "      <td>False</td>\n",
              "      <td>2010</td>\n",
              "      <td>2</td>\n",
              "      <td>5</td>\n",
              "      <td>36</td>\n",
              "      <td>5</td>\n",
              "      <td>5</td>\n",
              "      <td>4</td>\n",
              "      <td>4</td>\n",
              "      <td>1</td>\n",
              "    </tr>\n",
              "    <tr>\n",
              "      <th>277665</th>\n",
              "      <td>29</td>\n",
              "      <td>5</td>\n",
              "      <td>15552.08</td>\n",
              "      <td>False</td>\n",
              "      <td>2010</td>\n",
              "      <td>2</td>\n",
              "      <td>5</td>\n",
              "      <td>36</td>\n",
              "      <td>5</td>\n",
              "      <td>5</td>\n",
              "      <td>4</td>\n",
              "      <td>4</td>\n",
              "      <td>1</td>\n",
              "    </tr>\n",
              "    <tr>\n",
              "      <th>277808</th>\n",
              "      <td>29</td>\n",
              "      <td>6</td>\n",
              "      <td>3200.22</td>\n",
              "      <td>False</td>\n",
              "      <td>2010</td>\n",
              "      <td>2</td>\n",
              "      <td>5</td>\n",
              "      <td>36</td>\n",
              "      <td>5</td>\n",
              "      <td>5</td>\n",
              "      <td>4</td>\n",
              "      <td>4</td>\n",
              "      <td>1</td>\n",
              "    </tr>\n",
              "  </tbody>\n",
              "</table>\n",
              "</div>"
            ],
            "text/plain": [
              "        Store  Dept  Weekly_Sales  ...  dayofweek  weekday  quarter\n",
              "0           1     1      24924.50  ...          4        4        1\n",
              "277665     29     5      15552.08  ...          4        4        1\n",
              "277808     29     6       3200.22  ...          4        4        1\n",
              "\n",
              "[3 rows x 13 columns]"
            ]
          },
          "metadata": {
            "tags": []
          },
          "execution_count": 40
        }
      ]
    },
    {
      "cell_type": "code",
      "metadata": {
        "id": "5baLZqfPAaJx",
        "colab_type": "code",
        "outputId": "b495fdf8-419d-410b-f055-75583a4aaeda",
        "colab": {
          "base_uri": "https://localhost:8080/",
          "height": 319
        }
      },
      "source": [
        "train_processed.info()"
      ],
      "execution_count": 0,
      "outputs": [
        {
          "output_type": "stream",
          "text": [
            "<class 'pandas.core.frame.DataFrame'>\n",
            "Int64Index: 304087 entries, 0 to 158711\n",
            "Data columns (total 13 columns):\n",
            "Store           304087 non-null int64\n",
            "Dept            304087 non-null int64\n",
            "Weekly_Sales    304087 non-null float64\n",
            "IsHoliday       304087 non-null bool\n",
            "year            304087 non-null int64\n",
            "month           304087 non-null int64\n",
            "day             304087 non-null int64\n",
            "dayofyear       304087 non-null int64\n",
            "week            304087 non-null int64\n",
            "weekofyear      304087 non-null int64\n",
            "dayofweek       304087 non-null int64\n",
            "weekday         304087 non-null int64\n",
            "quarter         304087 non-null int64\n",
            "dtypes: bool(1), float64(1), int64(11)\n",
            "memory usage: 30.4 MB\n"
          ],
          "name": "stdout"
        }
      ]
    },
    {
      "cell_type": "code",
      "metadata": {
        "id": "Gyu04OUuAyfh",
        "colab_type": "code",
        "outputId": "b83a2255-2b44-4ca4-9f2f-8c9f9e083b29",
        "colab": {
          "base_uri": "https://localhost:8080/",
          "height": 34
        }
      },
      "source": [
        "my_table"
      ],
      "execution_count": 0,
      "outputs": [
        {
          "output_type": "execute_result",
          "data": {
            "text/plain": [
              "{}"
            ]
          },
          "metadata": {
            "tags": []
          },
          "execution_count": 42
        }
      ]
    },
    {
      "cell_type": "code",
      "metadata": {
        "id": "lwfh57RYAyiJ",
        "colab_type": "code",
        "outputId": "53bd1a9b-2338-4046-d01e-40bf2d7c1912",
        "colab": {
          "base_uri": "https://localhost:8080/",
          "height": 195
        }
      },
      "source": [
        "train_processed.head()"
      ],
      "execution_count": 0,
      "outputs": [
        {
          "output_type": "execute_result",
          "data": {
            "text/html": [
              "<div>\n",
              "<style scoped>\n",
              "    .dataframe tbody tr th:only-of-type {\n",
              "        vertical-align: middle;\n",
              "    }\n",
              "\n",
              "    .dataframe tbody tr th {\n",
              "        vertical-align: top;\n",
              "    }\n",
              "\n",
              "    .dataframe thead th {\n",
              "        text-align: right;\n",
              "    }\n",
              "</style>\n",
              "<table border=\"1\" class=\"dataframe\">\n",
              "  <thead>\n",
              "    <tr style=\"text-align: right;\">\n",
              "      <th></th>\n",
              "      <th>Store</th>\n",
              "      <th>Dept</th>\n",
              "      <th>Weekly_Sales</th>\n",
              "      <th>IsHoliday</th>\n",
              "      <th>year</th>\n",
              "      <th>month</th>\n",
              "      <th>day</th>\n",
              "      <th>dayofyear</th>\n",
              "      <th>week</th>\n",
              "      <th>weekofyear</th>\n",
              "      <th>dayofweek</th>\n",
              "      <th>weekday</th>\n",
              "      <th>quarter</th>\n",
              "    </tr>\n",
              "  </thead>\n",
              "  <tbody>\n",
              "    <tr>\n",
              "      <th>0</th>\n",
              "      <td>1</td>\n",
              "      <td>1</td>\n",
              "      <td>24924.50</td>\n",
              "      <td>False</td>\n",
              "      <td>2010</td>\n",
              "      <td>2</td>\n",
              "      <td>5</td>\n",
              "      <td>36</td>\n",
              "      <td>5</td>\n",
              "      <td>5</td>\n",
              "      <td>4</td>\n",
              "      <td>4</td>\n",
              "      <td>1</td>\n",
              "    </tr>\n",
              "    <tr>\n",
              "      <th>277665</th>\n",
              "      <td>29</td>\n",
              "      <td>5</td>\n",
              "      <td>15552.08</td>\n",
              "      <td>False</td>\n",
              "      <td>2010</td>\n",
              "      <td>2</td>\n",
              "      <td>5</td>\n",
              "      <td>36</td>\n",
              "      <td>5</td>\n",
              "      <td>5</td>\n",
              "      <td>4</td>\n",
              "      <td>4</td>\n",
              "      <td>1</td>\n",
              "    </tr>\n",
              "    <tr>\n",
              "      <th>277808</th>\n",
              "      <td>29</td>\n",
              "      <td>6</td>\n",
              "      <td>3200.22</td>\n",
              "      <td>False</td>\n",
              "      <td>2010</td>\n",
              "      <td>2</td>\n",
              "      <td>5</td>\n",
              "      <td>36</td>\n",
              "      <td>5</td>\n",
              "      <td>5</td>\n",
              "      <td>4</td>\n",
              "      <td>4</td>\n",
              "      <td>1</td>\n",
              "    </tr>\n",
              "    <tr>\n",
              "      <th>277951</th>\n",
              "      <td>29</td>\n",
              "      <td>7</td>\n",
              "      <td>10820.05</td>\n",
              "      <td>False</td>\n",
              "      <td>2010</td>\n",
              "      <td>2</td>\n",
              "      <td>5</td>\n",
              "      <td>36</td>\n",
              "      <td>5</td>\n",
              "      <td>5</td>\n",
              "      <td>4</td>\n",
              "      <td>4</td>\n",
              "      <td>1</td>\n",
              "    </tr>\n",
              "    <tr>\n",
              "      <th>278094</th>\n",
              "      <td>29</td>\n",
              "      <td>8</td>\n",
              "      <td>20055.64</td>\n",
              "      <td>False</td>\n",
              "      <td>2010</td>\n",
              "      <td>2</td>\n",
              "      <td>5</td>\n",
              "      <td>36</td>\n",
              "      <td>5</td>\n",
              "      <td>5</td>\n",
              "      <td>4</td>\n",
              "      <td>4</td>\n",
              "      <td>1</td>\n",
              "    </tr>\n",
              "  </tbody>\n",
              "</table>\n",
              "</div>"
            ],
            "text/plain": [
              "        Store  Dept  Weekly_Sales  ...  dayofweek  weekday  quarter\n",
              "0           1     1      24924.50  ...          4        4        1\n",
              "277665     29     5      15552.08  ...          4        4        1\n",
              "277808     29     6       3200.22  ...          4        4        1\n",
              "277951     29     7      10820.05  ...          4        4        1\n",
              "278094     29     8      20055.64  ...          4        4        1\n",
              "\n",
              "[5 rows x 13 columns]"
            ]
          },
          "metadata": {
            "tags": []
          },
          "execution_count": 43
        }
      ]
    },
    {
      "cell_type": "code",
      "metadata": {
        "id": "sK_Dn6UYAyka",
        "colab_type": "code",
        "colab": {}
      },
      "source": [
        "Y = train_processed[\"Weekly_Sales\"]\n",
        "X = train_processed.drop([\"Weekly_Sales\"],axis = 1)"
      ],
      "execution_count": 0,
      "outputs": []
    },
    {
      "cell_type": "code",
      "metadata": {
        "id": "moPGOI8pAymn",
        "colab_type": "code",
        "outputId": "fff11385-98e7-4816-a5cc-e363ab483289",
        "colab": {
          "base_uri": "https://localhost:8080/",
          "height": 34
        }
      },
      "source": [
        "'''Then, split into train and valid sets for model building \n",
        "and hyperparameter tuning, respectively'''\n",
        "\n",
        "X_train,X_valid = split_df(X,260000)\n",
        "Y_train,Y_valid = split_df(Y,260000)\n",
        "\n",
        "print(X_train.shape,X_valid.shape,Y_train.shape,Y_valid.shape)"
      ],
      "execution_count": 0,
      "outputs": [
        {
          "output_type": "stream",
          "text": [
            "(260000, 12) (44087, 12) (260000,) (44087,)\n"
          ],
          "name": "stdout"
        }
      ]
    },
    {
      "cell_type": "markdown",
      "metadata": {
        "id": "TWn5GgCCBH8I",
        "colab_type": "text"
      },
      "source": [
        "# **Preprocessing Test data**"
      ]
    },
    {
      "cell_type": "code",
      "metadata": {
        "id": "xG0sRDrEAyow",
        "colab_type": "code",
        "outputId": "2e121533-ec1f-4805-ffe4-7afc9356c9be",
        "colab": {
          "base_uri": "https://localhost:8080/",
          "height": 466
        }
      },
      "source": [
        "''' Deal with missing values. Calculating the percentage of\n",
        "missing values for every column, and plot them as a bar chart'''\n",
        "\n",
        "null_vals = df_test.isnull().sum()/len(df_test)*100\n",
        "null_vals = pd.DataFrame(null_vals)\n",
        "null_vals.reset_index(inplace = True)\n",
        "null_vals.columns = [\"Feature\",\"Percent missing\"]\n",
        "plt.figure(figsize = (8,6))\n",
        "plt.xticks(rotation=45)\n",
        "plt.title('Features Vs Null Value')\n",
        "sns.barplot(x = \"Feature\",y =\"Percent missing\",data = null_vals)"
      ],
      "execution_count": 0,
      "outputs": [
        {
          "output_type": "execute_result",
          "data": {
            "text/plain": [
              "<matplotlib.axes._subplots.AxesSubplot at 0x7f937008eb70>"
            ]
          },
          "metadata": {
            "tags": []
          },
          "execution_count": 46
        },
        {
          "output_type": "display_data",
          "data": {
            "image/png": "[encoded data removed]",
            "text/plain": [
              "<Figure size 576x432 with 1 Axes>"
            ]
          },
          "metadata": {
            "tags": []
          }
        }
      ]
    },
    {
      "cell_type": "code",
      "metadata": {
        "id": "ui1RuqaNAyra",
        "colab_type": "code",
        "outputId": "7273c01b-0e9b-4977-8bea-790bcba63aa2",
        "colab": {
          "base_uri": "https://localhost:8080/",
          "height": 283
        }
      },
      "source": [
        "scatter(df_test, 'IsHoliday')"
      ],
      "execution_count": 0,
      "outputs": [
        {
          "output_type": "display_data",
          "data": {
            "image/png": "[encoded data removed]",
            "text/plain": [
              "<Figure size 432x288 with 1 Axes>"
            ]
          },
          "metadata": {
            "tags": []
          }
        }
      ]
    },
    {
      "cell_type": "code",
      "metadata": {
        "id": "Zuio4n6mAyt5",
        "colab_type": "code",
        "outputId": "cb4d85ec-bdf6-4c11-b0e1-89d1a3961214",
        "colab": {
          "base_uri": "https://localhost:8080/",
          "height": 34
        }
      },
      "source": [
        "'''From the graph, we can see that maximum sale occured on holiday. \n",
        "This graph is disimilar from train dataset. '''"
      ],
      "execution_count": 0,
      "outputs": [
        {
          "output_type": "execute_result",
          "data": {
            "text/plain": [
              "'From the graph, we can see that maximum sale occured on holiday. \\nThis graph is disimilar from train dataset. '"
            ]
          },
          "metadata": {
            "tags": []
          },
          "execution_count": 48
        }
      ]
    },
    {
      "cell_type": "code",
      "metadata": {
        "id": "EkAZRp46AyxD",
        "colab_type": "code",
        "outputId": "45adb4d4-484c-4a51-b3a0-7a3c51f2ab98",
        "colab": {
          "base_uri": "https://localhost:8080/",
          "height": 283
        }
      },
      "source": [
        "scatter(df_test, 'Store')"
      ],
      "execution_count": 0,
      "outputs": [
        {
          "output_type": "display_data",
          "data": {
            "image/png": "[encoded data removed]",
            "text/plain": [
              "<Figure size 432x288 with 1 Axes>"
            ]
          },
          "metadata": {
            "tags": []
          }
        }
      ]
    },
    {
      "cell_type": "code",
      "metadata": {
        "id": "FxkHuFWNBRMy",
        "colab_type": "code",
        "outputId": "023f4ba8-4418-4383-daee-6d12c590a134",
        "colab": {
          "base_uri": "https://localhost:8080/",
          "height": 34
        }
      },
      "source": [
        "'''From the graph, we can deduct that maximum sale occured in store 10 which is same as the train data.\n",
        "And the majority of weekly sale is below 200000'''"
      ],
      "execution_count": 0,
      "outputs": [
        {
          "output_type": "execute_result",
          "data": {
            "text/plain": [
              "'From the graph, we can deduct that maximum sale occured in store 10 which is same as the train data.\\nAnd the majority of weekly sale is below 200000'"
            ]
          },
          "metadata": {
            "tags": []
          },
          "execution_count": 50
        }
      ]
    },
    {
      "cell_type": "code",
      "metadata": {
        "id": "QH3dDdysBRPJ",
        "colab_type": "code",
        "outputId": "1bf253b1-1e3a-437e-a77c-96e42ffbc94a",
        "colab": {
          "base_uri": "https://localhost:8080/",
          "height": 283
        }
      },
      "source": [
        "scatter(df_test, 'Dept')"
      ],
      "execution_count": 0,
      "outputs": [
        {
          "output_type": "display_data",
          "data": {
            "image/png": "[encoded data removed]",
            "text/plain": [
              "<Figure size 432x288 with 1 Axes>"
            ]
          },
          "metadata": {
            "tags": []
          }
        }
      ]
    },
    {
      "cell_type": "code",
      "metadata": {
        "id": "5PO_YC66BRT3",
        "colab_type": "code",
        "outputId": "411d20a4-0cf8-4f18-d463-3f6eb2b5515d",
        "colab": {
          "base_uri": "https://localhost:8080/",
          "height": 34
        }
      },
      "source": [
        "'''From the graph, we can deduct that maximum sale occurs in dept 72 which is same as train dataset. '''"
      ],
      "execution_count": 0,
      "outputs": [
        {
          "output_type": "execute_result",
          "data": {
            "text/plain": [
              "'From the graph, we can deduct that maximum sale occurs in dept 72 which is same as train dataset. '"
            ]
          },
          "metadata": {
            "tags": []
          },
          "execution_count": 52
        }
      ]
    },
    {
      "cell_type": "markdown",
      "metadata": {
        "id": "UEUGdFSQBkq4",
        "colab_type": "text"
      },
      "source": [
        "# **Confirming our observations**"
      ]
    },
    {
      "cell_type": "code",
      "metadata": {
        "id": "xmchT30bBRXQ",
        "colab_type": "code",
        "outputId": "2cb672cd-2de9-4b01-c2ee-eb37312295d9",
        "colab": {
          "base_uri": "https://localhost:8080/",
          "height": 168
        }
      },
      "source": [
        "'''Here we can see the maximum weekly_sale is 233140.320000. Also an interesting observation is \n",
        "that weekly_sale contains NEGATIVE VALUE which is not acceptable. So we need remove records with negative\n",
        "weekly sale from our dataframe'''\n",
        "df_test[\"Weekly_Sales\"].describe()"
      ],
      "execution_count": 0,
      "outputs": [
        {
          "output_type": "execute_result",
          "data": {
            "text/plain": [
              "count    116570.000000\n",
              "mean      15816.365134\n",
              "std       22146.908346\n",
              "min       -1699.000000\n",
              "25%        1974.710000\n",
              "50%        7480.085000\n",
              "75%       20118.117500\n",
              "max      233140.320000\n",
              "Name: Weekly_Sales, dtype: float64"
            ]
          },
          "metadata": {
            "tags": []
          },
          "execution_count": 53
        }
      ]
    },
    {
      "cell_type": "code",
      "metadata": {
        "id": "QF1tDC3SBRRj",
        "colab_type": "code",
        "outputId": "bbfb1b6f-fbb2-4e1d-8691-11e13e0f2896",
        "colab": {
          "base_uri": "https://localhost:8080/",
          "height": 77
        }
      },
      "source": [
        "max_weekly_sale_test = df_test[df_test[\"Weekly_Sales\"] == 233140.320000]\n",
        "max_weekly_sale_test"
      ],
      "execution_count": 0,
      "outputs": [
        {
          "output_type": "execute_result",
          "data": {
            "text/html": [
              "<div>\n",
              "<style scoped>\n",
              "    .dataframe tbody tr th:only-of-type {\n",
              "        vertical-align: middle;\n",
              "    }\n",
              "\n",
              "    .dataframe tbody tr th {\n",
              "        vertical-align: top;\n",
              "    }\n",
              "\n",
              "    .dataframe thead th {\n",
              "        text-align: right;\n",
              "    }\n",
              "</style>\n",
              "<table border=\"1\" class=\"dataframe\">\n",
              "  <thead>\n",
              "    <tr style=\"text-align: right;\">\n",
              "      <th></th>\n",
              "      <th>Store</th>\n",
              "      <th>Dept</th>\n",
              "      <th>Date</th>\n",
              "      <th>Weekly_Sales</th>\n",
              "      <th>IsHoliday</th>\n",
              "    </tr>\n",
              "  </thead>\n",
              "  <tbody>\n",
              "    <tr>\n",
              "      <th>95436</th>\n",
              "      <td>10</td>\n",
              "      <td>72</td>\n",
              "      <td>2012-02-10</td>\n",
              "      <td>233140.32</td>\n",
              "      <td>True</td>\n",
              "    </tr>\n",
              "  </tbody>\n",
              "</table>\n",
              "</div>"
            ],
            "text/plain": [
              "       Store  Dept       Date  Weekly_Sales  IsHoliday\n",
              "95436     10    72 2012-02-10     233140.32       True"
            ]
          },
          "metadata": {
            "tags": []
          },
          "execution_count": 54
        }
      ]
    },
    {
      "cell_type": "markdown",
      "metadata": {
        "id": "VjKL0YVtBw3z",
        "colab_type": "text"
      },
      "source": [
        "# **Correlations between different variables in a dataframe:**"
      ]
    },
    {
      "cell_type": "code",
      "metadata": {
        "id": "7SemZx7yBs78",
        "colab_type": "code",
        "outputId": "4380ebb3-5c0d-4043-ab07-25e95159f970",
        "colab": {
          "base_uri": "https://localhost:8080/",
          "height": 830
        }
      },
      "source": [
        "'''The correlation between variables in test dataset is similar to train dataset'''\n",
        "fig = plt.figure(figsize=(18, 14))\n",
        "corr = df_test.corr()\n",
        "c = plt.pcolor(corr)\n",
        "plt.yticks(np.arange(0.5, len(corr.index), 1), corr.index)\n",
        "plt.xticks(np.arange(0.5, len(corr.columns), 1), corr.columns)\n",
        "fig.colorbar(c)"
      ],
      "execution_count": 0,
      "outputs": [
        {
          "output_type": "execute_result",
          "data": {
            "text/plain": [
              "<matplotlib.colorbar.Colorbar at 0x7f936fb9eeb8>"
            ]
          },
          "metadata": {
            "tags": []
          },
          "execution_count": 55
        },
        {
          "output_type": "display_data",
          "data": {
            "image/png": "[encoded data removed]",
            "text/plain": [
              "<Figure size 1296x1008 with 2 Axes>"
            ]
          },
          "metadata": {
            "tags": []
          }
        }
      ]
    },
    {
      "cell_type": "markdown",
      "metadata": {
        "id": "3N5-yPC9B3wC",
        "colab_type": "text"
      },
      "source": [
        "# **Drop records with negative weekly sale**"
      ]
    },
    {
      "cell_type": "code",
      "metadata": {
        "id": "iPhdGLtxBs-g",
        "colab_type": "code",
        "outputId": "b23f2d2a-6bb0-44c8-adb1-ce8818b59212",
        "colab": {
          "base_uri": "https://localhost:8080/",
          "height": 34
        }
      },
      "source": [
        "'''There are 375 records that contains weekly sale with negative value. Let us next check if there are any records \n",
        "with 0 weekly sale'''\n",
        "\n",
        "neg_weekly_sale_test=df_test[df_test.Weekly_Sales < 0]\n",
        "print (neg_weekly_sale_test.shape)"
      ],
      "execution_count": 0,
      "outputs": [
        {
          "output_type": "stream",
          "text": [
            "(372, 5)\n"
          ],
          "name": "stdout"
        }
      ]
    },
    {
      "cell_type": "code",
      "metadata": {
        "id": "wSBSGv5kBtA4",
        "colab_type": "code",
        "outputId": "dfcea461-a063-41b9-e046-0d61652d6eaa",
        "colab": {
          "base_uri": "https://localhost:8080/",
          "height": 34
        }
      },
      "source": [
        "'''We can see that there are 15 records with 0 weekly sale.'''\n",
        "zero_weekly_sale_test = df_test[df_test[\"Weekly_Sales\"] == 0]\n",
        "print (zero_weekly_sale_test.shape)"
      ],
      "execution_count": 0,
      "outputs": [
        {
          "output_type": "stream",
          "text": [
            "(15, 5)\n"
          ],
          "name": "stdout"
        }
      ]
    },
    {
      "cell_type": "code",
      "metadata": {
        "id": "u4vkJoF1BtDk",
        "colab_type": "code",
        "outputId": "5500dd9d-baf7-4517-cf3b-9a6a6fee4065",
        "colab": {
          "base_uri": "https://localhost:8080/",
          "height": 34
        }
      },
      "source": [
        "''' The negative weekly sale may be due to the misplaced negative sign while entering/inserting the weekly sale.\n",
        "Since we cannot make assumptions, we are dropping these records '''\n",
        "df_test_1=df_test[df_test.Weekly_Sales >= 0]\n",
        "print (df_test_1.shape)"
      ],
      "execution_count": 0,
      "outputs": [
        {
          "output_type": "stream",
          "text": [
            "(116198, 5)\n"
          ],
          "name": "stdout"
        }
      ]
    },
    {
      "cell_type": "code",
      "metadata": {
        "id": "8CBNMallBtFx",
        "colab_type": "code",
        "outputId": "a633e1d6-e597-488a-e2e2-06ae67615e17",
        "colab": {
          "base_uri": "https://localhost:8080/",
          "height": 284
        }
      },
      "source": [
        "df_test_1.describe()"
      ],
      "execution_count": 0,
      "outputs": [
        {
          "output_type": "execute_result",
          "data": {
            "text/html": [
              "<div>\n",
              "<style scoped>\n",
              "    .dataframe tbody tr th:only-of-type {\n",
              "        vertical-align: middle;\n",
              "    }\n",
              "\n",
              "    .dataframe tbody tr th {\n",
              "        vertical-align: top;\n",
              "    }\n",
              "\n",
              "    .dataframe thead th {\n",
              "        text-align: right;\n",
              "    }\n",
              "</style>\n",
              "<table border=\"1\" class=\"dataframe\">\n",
              "  <thead>\n",
              "    <tr style=\"text-align: right;\">\n",
              "      <th></th>\n",
              "      <th>Store</th>\n",
              "      <th>Dept</th>\n",
              "      <th>Weekly_Sales</th>\n",
              "    </tr>\n",
              "  </thead>\n",
              "  <tbody>\n",
              "    <tr>\n",
              "      <th>count</th>\n",
              "      <td>116198.000000</td>\n",
              "      <td>116198.000000</td>\n",
              "      <td>116198.000000</td>\n",
              "    </tr>\n",
              "    <tr>\n",
              "      <th>mean</th>\n",
              "      <td>22.243429</td>\n",
              "      <td>44.437366</td>\n",
              "      <td>15867.179806</td>\n",
              "    </tr>\n",
              "    <tr>\n",
              "      <th>std</th>\n",
              "      <td>12.799173</td>\n",
              "      <td>30.662342</td>\n",
              "      <td>22164.084041</td>\n",
              "    </tr>\n",
              "    <tr>\n",
              "      <th>min</th>\n",
              "      <td>1.000000</td>\n",
              "      <td>1.000000</td>\n",
              "      <td>0.000000</td>\n",
              "    </tr>\n",
              "    <tr>\n",
              "      <th>25%</th>\n",
              "      <td>11.000000</td>\n",
              "      <td>18.000000</td>\n",
              "      <td>2017.112500</td>\n",
              "    </tr>\n",
              "    <tr>\n",
              "      <th>50%</th>\n",
              "      <td>22.000000</td>\n",
              "      <td>37.000000</td>\n",
              "      <td>7526.575000</td>\n",
              "    </tr>\n",
              "    <tr>\n",
              "      <th>75%</th>\n",
              "      <td>33.000000</td>\n",
              "      <td>74.000000</td>\n",
              "      <td>20174.340000</td>\n",
              "    </tr>\n",
              "    <tr>\n",
              "      <th>max</th>\n",
              "      <td>45.000000</td>\n",
              "      <td>99.000000</td>\n",
              "      <td>233140.320000</td>\n",
              "    </tr>\n",
              "  </tbody>\n",
              "</table>\n",
              "</div>"
            ],
            "text/plain": [
              "               Store           Dept   Weekly_Sales\n",
              "count  116198.000000  116198.000000  116198.000000\n",
              "mean       22.243429      44.437366   15867.179806\n",
              "std        12.799173      30.662342   22164.084041\n",
              "min         1.000000       1.000000       0.000000\n",
              "25%        11.000000      18.000000    2017.112500\n",
              "50%        22.000000      37.000000    7526.575000\n",
              "75%        33.000000      74.000000   20174.340000\n",
              "max        45.000000      99.000000  233140.320000"
            ]
          },
          "metadata": {
            "tags": []
          },
          "execution_count": 59
        }
      ]
    },
    {
      "cell_type": "code",
      "metadata": {
        "id": "Vt74biPkBtIv",
        "colab_type": "code",
        "outputId": "47df8db7-ab70-4642-e9d2-c7d418ee3008",
        "colab": {
          "base_uri": "https://localhost:8080/",
          "height": 34
        }
      },
      "source": [
        "# Splitting dates\n",
        "df_test_2 = split_dates(df_test_1,\"Date\")\n",
        "print(df_test_2.shape)"
      ],
      "execution_count": 0,
      "outputs": [
        {
          "output_type": "stream",
          "text": [
            "(116198, 13)\n"
          ],
          "name": "stdout"
        }
      ]
    },
    {
      "cell_type": "code",
      "metadata": {
        "id": "frKzEHMeBtLH",
        "colab_type": "code",
        "outputId": "f5b3a28e-07ea-4c32-99fc-ae66381cffaf",
        "colab": {
          "base_uri": "https://localhost:8080/",
          "height": 153
        }
      },
      "source": [
        "# Converting string to category\n",
        "df_test_3 = str_to_cat(df_test_2)\n",
        "print(df_test_3.shape)\n",
        "df_test_3.head(3)"
      ],
      "execution_count": 0,
      "outputs": [
        {
          "output_type": "stream",
          "text": [
            "(116198, 13)\n"
          ],
          "name": "stdout"
        },
        {
          "output_type": "execute_result",
          "data": {
            "text/html": [
              "<div>\n",
              "<style scoped>\n",
              "    .dataframe tbody tr th:only-of-type {\n",
              "        vertical-align: middle;\n",
              "    }\n",
              "\n",
              "    .dataframe tbody tr th {\n",
              "        vertical-align: top;\n",
              "    }\n",
              "\n",
              "    .dataframe thead th {\n",
              "        text-align: right;\n",
              "    }\n",
              "</style>\n",
              "<table border=\"1\" class=\"dataframe\">\n",
              "  <thead>\n",
              "    <tr style=\"text-align: right;\">\n",
              "      <th></th>\n",
              "      <th>Store</th>\n",
              "      <th>Dept</th>\n",
              "      <th>Weekly_Sales</th>\n",
              "      <th>IsHoliday</th>\n",
              "      <th>year</th>\n",
              "      <th>month</th>\n",
              "      <th>day</th>\n",
              "      <th>dayofyear</th>\n",
              "      <th>week</th>\n",
              "      <th>weekofyear</th>\n",
              "      <th>dayofweek</th>\n",
              "      <th>weekday</th>\n",
              "      <th>quarter</th>\n",
              "    </tr>\n",
              "  </thead>\n",
              "  <tbody>\n",
              "    <tr>\n",
              "      <th>119977</th>\n",
              "      <td>13</td>\n",
              "      <td>18</td>\n",
              "      <td>4234.71</td>\n",
              "      <td>False</td>\n",
              "      <td>2012</td>\n",
              "      <td>1</td>\n",
              "      <td>27</td>\n",
              "      <td>27</td>\n",
              "      <td>4</td>\n",
              "      <td>4</td>\n",
              "      <td>4</td>\n",
              "      <td>4</td>\n",
              "      <td>1</td>\n",
              "    </tr>\n",
              "    <tr>\n",
              "      <th>343640</th>\n",
              "      <td>36</td>\n",
              "      <td>46</td>\n",
              "      <td>2077.95</td>\n",
              "      <td>False</td>\n",
              "      <td>2012</td>\n",
              "      <td>1</td>\n",
              "      <td>27</td>\n",
              "      <td>27</td>\n",
              "      <td>4</td>\n",
              "      <td>4</td>\n",
              "      <td>4</td>\n",
              "      <td>4</td>\n",
              "      <td>1</td>\n",
              "    </tr>\n",
              "    <tr>\n",
              "      <th>121973</th>\n",
              "      <td>13</td>\n",
              "      <td>32</td>\n",
              "      <td>6484.50</td>\n",
              "      <td>False</td>\n",
              "      <td>2012</td>\n",
              "      <td>1</td>\n",
              "      <td>27</td>\n",
              "      <td>27</td>\n",
              "      <td>4</td>\n",
              "      <td>4</td>\n",
              "      <td>4</td>\n",
              "      <td>4</td>\n",
              "      <td>1</td>\n",
              "    </tr>\n",
              "  </tbody>\n",
              "</table>\n",
              "</div>"
            ],
            "text/plain": [
              "        Store  Dept  Weekly_Sales  ...  dayofweek  weekday  quarter\n",
              "119977     13    18       4234.71  ...          4        4        1\n",
              "343640     36    46       2077.95  ...          4        4        1\n",
              "121973     13    32       6484.50  ...          4        4        1\n",
              "\n",
              "[3 rows x 13 columns]"
            ]
          },
          "metadata": {
            "tags": []
          },
          "execution_count": 61
        }
      ]
    },
    {
      "cell_type": "code",
      "metadata": {
        "id": "wMUVs2u-BtOA",
        "colab_type": "code",
        "outputId": "93204b9e-b83f-4f37-b070-6f35603db237",
        "colab": {
          "base_uri": "https://localhost:8080/",
          "height": 153
        }
      },
      "source": [
        "#Imputing null values based on entry in my_table.(my_table is null as  there were no null values in train dataset )\n",
        "test_processed,my_table = mydf_preprocessor(df_test_3,null_table = my_table)\n",
        "print(test_processed.shape)\n",
        "test_processed.head(3)"
      ],
      "execution_count": 0,
      "outputs": [
        {
          "output_type": "stream",
          "text": [
            "(116198, 13)\n"
          ],
          "name": "stdout"
        },
        {
          "output_type": "execute_result",
          "data": {
            "text/html": [
              "<div>\n",
              "<style scoped>\n",
              "    .dataframe tbody tr th:only-of-type {\n",
              "        vertical-align: middle;\n",
              "    }\n",
              "\n",
              "    .dataframe tbody tr th {\n",
              "        vertical-align: top;\n",
              "    }\n",
              "\n",
              "    .dataframe thead th {\n",
              "        text-align: right;\n",
              "    }\n",
              "</style>\n",
              "<table border=\"1\" class=\"dataframe\">\n",
              "  <thead>\n",
              "    <tr style=\"text-align: right;\">\n",
              "      <th></th>\n",
              "      <th>Store</th>\n",
              "      <th>Dept</th>\n",
              "      <th>Weekly_Sales</th>\n",
              "      <th>IsHoliday</th>\n",
              "      <th>year</th>\n",
              "      <th>month</th>\n",
              "      <th>day</th>\n",
              "      <th>dayofyear</th>\n",
              "      <th>week</th>\n",
              "      <th>weekofyear</th>\n",
              "      <th>dayofweek</th>\n",
              "      <th>weekday</th>\n",
              "      <th>quarter</th>\n",
              "    </tr>\n",
              "  </thead>\n",
              "  <tbody>\n",
              "    <tr>\n",
              "      <th>119977</th>\n",
              "      <td>13</td>\n",
              "      <td>18</td>\n",
              "      <td>4234.71</td>\n",
              "      <td>False</td>\n",
              "      <td>2012</td>\n",
              "      <td>1</td>\n",
              "      <td>27</td>\n",
              "      <td>27</td>\n",
              "      <td>4</td>\n",
              "      <td>4</td>\n",
              "      <td>4</td>\n",
              "      <td>4</td>\n",
              "      <td>1</td>\n",
              "    </tr>\n",
              "    <tr>\n",
              "      <th>343640</th>\n",
              "      <td>36</td>\n",
              "      <td>46</td>\n",
              "      <td>2077.95</td>\n",
              "      <td>False</td>\n",
              "      <td>2012</td>\n",
              "      <td>1</td>\n",
              "      <td>27</td>\n",
              "      <td>27</td>\n",
              "      <td>4</td>\n",
              "      <td>4</td>\n",
              "      <td>4</td>\n",
              "      <td>4</td>\n",
              "      <td>1</td>\n",
              "    </tr>\n",
              "    <tr>\n",
              "      <th>121973</th>\n",
              "      <td>13</td>\n",
              "      <td>32</td>\n",
              "      <td>6484.50</td>\n",
              "      <td>False</td>\n",
              "      <td>2012</td>\n",
              "      <td>1</td>\n",
              "      <td>27</td>\n",
              "      <td>27</td>\n",
              "      <td>4</td>\n",
              "      <td>4</td>\n",
              "      <td>4</td>\n",
              "      <td>4</td>\n",
              "      <td>1</td>\n",
              "    </tr>\n",
              "  </tbody>\n",
              "</table>\n",
              "</div>"
            ],
            "text/plain": [
              "        Store  Dept  Weekly_Sales  ...  dayofweek  weekday  quarter\n",
              "119977     13    18       4234.71  ...          4        4        1\n",
              "343640     36    46       2077.95  ...          4        4        1\n",
              "121973     13    32       6484.50  ...          4        4        1\n",
              "\n",
              "[3 rows x 13 columns]"
            ]
          },
          "metadata": {
            "tags": []
          },
          "execution_count": 62
        }
      ]
    },
    {
      "cell_type": "code",
      "metadata": {
        "id": "FyrLzxYbBtRr",
        "colab_type": "code",
        "outputId": "7c3e4a52-c143-44e3-9e40-8d975bf87710",
        "colab": {
          "base_uri": "https://localhost:8080/",
          "height": 319
        }
      },
      "source": [
        "test_processed.info()"
      ],
      "execution_count": 0,
      "outputs": [
        {
          "output_type": "stream",
          "text": [
            "<class 'pandas.core.frame.DataFrame'>\n",
            "Int64Index: 116198 entries, 119977 to 421569\n",
            "Data columns (total 13 columns):\n",
            "Store           116198 non-null int64\n",
            "Dept            116198 non-null int64\n",
            "Weekly_Sales    116198 non-null float64\n",
            "IsHoliday       116198 non-null bool\n",
            "year            116198 non-null int64\n",
            "month           116198 non-null int64\n",
            "day             116198 non-null int64\n",
            "dayofyear       116198 non-null int64\n",
            "week            116198 non-null int64\n",
            "weekofyear      116198 non-null int64\n",
            "dayofweek       116198 non-null int64\n",
            "weekday         116198 non-null int64\n",
            "quarter         116198 non-null int64\n",
            "dtypes: bool(1), float64(1), int64(11)\n",
            "memory usage: 11.6 MB\n"
          ],
          "name": "stdout"
        }
      ]
    },
    {
      "cell_type": "code",
      "metadata": {
        "id": "RP5_D5_XBtVD",
        "colab_type": "code",
        "colab": {}
      },
      "source": [
        "Y_test = test_processed[\"Weekly_Sales\"]\n",
        "X_test = test_processed.drop([\"Weekly_Sales\"],axis = 1)"
      ],
      "execution_count": 0,
      "outputs": []
    },
    {
      "cell_type": "code",
      "metadata": {
        "id": "c_xnitkvBtbh",
        "colab_type": "code",
        "colab": {}
      },
      "source": [
        "# for storing models and error results\n",
        "model_list_mae = list()\n",
        "model_list_med = list()\n",
        "mae_list = list()\n",
        "med_list = list()"
      ],
      "execution_count": 0,
      "outputs": []
    },
    {
      "cell_type": "markdown",
      "metadata": {
        "id": "naA0z-0mClHu",
        "colab_type": "text"
      },
      "source": [
        "# **Build and Train a k-NN Regression model**"
      ]
    },
    {
      "cell_type": "code",
      "metadata": {
        "id": "XLv7MzejCler",
        "colab_type": "code",
        "colab": {}
      },
      "source": [
        "my_knn_model = KNeighborsRegressor(n_neighbors = 1,weights = 'uniform')\n",
        "my_knn_model.fit(X_train,Y_train)\n",
        "\n",
        "#Predict on the validation set\n",
        "Y_pred_kNN = my_knn_model.predict(X_valid)"
      ],
      "execution_count": 0,
      "outputs": []
    },
    {
      "cell_type": "code",
      "metadata": {
        "id": "lBnxmzzwClhV",
        "colab_type": "code",
        "outputId": "f5e6930c-c419-4e3c-afe5-1974927ab4c3",
        "colab": {
          "base_uri": "https://localhost:8080/",
          "height": 34
        }
      },
      "source": [
        "my_knn_model.score(X_valid, Y_valid)"
      ],
      "execution_count": 0,
      "outputs": [
        {
          "output_type": "execute_result",
          "data": {
            "text/plain": [
              "0.9486915235811695"
            ]
          },
          "metadata": {
            "tags": []
          },
          "execution_count": 67
        }
      ]
    },
    {
      "cell_type": "code",
      "metadata": {
        "id": "9-vcEGIBClkJ",
        "colab_type": "code",
        "outputId": "7b16d35d-851b-4a38-9308-485f874deae2",
        "colab": {
          "base_uri": "https://localhost:8080/",
          "height": 34
        }
      },
      "source": [
        "mae_valid_kNN = mean_absolute_error(Y_valid, Y_pred_kNN)\n",
        "mae_valid_kNN"
      ],
      "execution_count": 0,
      "outputs": [
        {
          "output_type": "execute_result",
          "data": {
            "text/plain": [
              "2453.5843797491325"
            ]
          },
          "metadata": {
            "tags": []
          },
          "execution_count": 68
        }
      ]
    },
    {
      "cell_type": "code",
      "metadata": {
        "id": "G3Ipg1s5C1LG",
        "colab_type": "code",
        "outputId": "c6c7e923-19e4-4b90-8d93-bccfb4a6b5d9",
        "colab": {
          "base_uri": "https://localhost:8080/",
          "height": 34
        }
      },
      "source": [
        "med_valid_kNN = median_absolute_error(Y_valid, Y_pred_kNN)\n",
        "med_valid_kNN"
      ],
      "execution_count": 0,
      "outputs": [
        {
          "output_type": "execute_result",
          "data": {
            "text/plain": [
              "867.0499999999956"
            ]
          },
          "metadata": {
            "tags": []
          },
          "execution_count": 69
        }
      ]
    },
    {
      "cell_type": "markdown",
      "metadata": {
        "id": "i9oEErjNC5Y8",
        "colab_type": "text"
      },
      "source": [
        "**Hyperparameter tuning**"
      ]
    },
    {
      "cell_type": "code",
      "metadata": {
        "id": "oNU5sA65C1N6",
        "colab_type": "code",
        "colab": {}
      },
      "source": [
        "from sklearn.metrics import accuracy_score\n",
        "\n",
        "num_neighs = list()\n",
        "accuracy_list = list()\n",
        "\n",
        "\n",
        "for neighbor in range(1,20):\n",
        "    my_knn_model = KNeighborsRegressor(n_neighbors = neighbor,weights = 'uniform')\n",
        "    my_knn_model.fit(X_train,Y_train)\n",
        "    #Y_pred = my_knn_model.predict(X_valid)\n",
        "    accuracy = my_knn_model.score(X_valid,Y_valid)\n",
        "    num_neighs.append(neighbor)\n",
        "    accuracy_list.append(accuracy)"
      ],
      "execution_count": 0,
      "outputs": []
    },
    {
      "cell_type": "code",
      "metadata": {
        "id": "lzPUFEFNC8N8",
        "colab_type": "code",
        "outputId": "37f6d463-4157-4a45-a4d8-4cb5aad7f24a",
        "colab": {
          "base_uri": "https://localhost:8080/",
          "height": 610
        }
      },
      "source": [
        "eval_df =  pd.DataFrame({\"Num of neighbors\": num_neighs,\"Valid accuracy Score\": accuracy_list})\n",
        "eval_df"
      ],
      "execution_count": 0,
      "outputs": [
        {
          "output_type": "execute_result",
          "data": {
            "text/html": [
              "<div>\n",
              "<style scoped>\n",
              "    .dataframe tbody tr th:only-of-type {\n",
              "        vertical-align: middle;\n",
              "    }\n",
              "\n",
              "    .dataframe tbody tr th {\n",
              "        vertical-align: top;\n",
              "    }\n",
              "\n",
              "    .dataframe thead th {\n",
              "        text-align: right;\n",
              "    }\n",
              "</style>\n",
              "<table border=\"1\" class=\"dataframe\">\n",
              "  <thead>\n",
              "    <tr style=\"text-align: right;\">\n",
              "      <th></th>\n",
              "      <th>Num of neighbors</th>\n",
              "      <th>Valid accuracy Score</th>\n",
              "    </tr>\n",
              "  </thead>\n",
              "  <tbody>\n",
              "    <tr>\n",
              "      <th>0</th>\n",
              "      <td>1</td>\n",
              "      <td>0.948692</td>\n",
              "    </tr>\n",
              "    <tr>\n",
              "      <th>1</th>\n",
              "      <td>2</td>\n",
              "      <td>0.724055</td>\n",
              "    </tr>\n",
              "    <tr>\n",
              "      <th>2</th>\n",
              "      <td>3</td>\n",
              "      <td>0.692330</td>\n",
              "    </tr>\n",
              "    <tr>\n",
              "      <th>3</th>\n",
              "      <td>4</td>\n",
              "      <td>0.661807</td>\n",
              "    </tr>\n",
              "    <tr>\n",
              "      <th>4</th>\n",
              "      <td>5</td>\n",
              "      <td>0.602458</td>\n",
              "    </tr>\n",
              "    <tr>\n",
              "      <th>5</th>\n",
              "      <td>6</td>\n",
              "      <td>0.512580</td>\n",
              "    </tr>\n",
              "    <tr>\n",
              "      <th>6</th>\n",
              "      <td>7</td>\n",
              "      <td>0.483244</td>\n",
              "    </tr>\n",
              "    <tr>\n",
              "      <th>7</th>\n",
              "      <td>8</td>\n",
              "      <td>0.461982</td>\n",
              "    </tr>\n",
              "    <tr>\n",
              "      <th>8</th>\n",
              "      <td>9</td>\n",
              "      <td>0.431863</td>\n",
              "    </tr>\n",
              "    <tr>\n",
              "      <th>9</th>\n",
              "      <td>10</td>\n",
              "      <td>0.429456</td>\n",
              "    </tr>\n",
              "    <tr>\n",
              "      <th>10</th>\n",
              "      <td>11</td>\n",
              "      <td>0.441679</td>\n",
              "    </tr>\n",
              "    <tr>\n",
              "      <th>11</th>\n",
              "      <td>12</td>\n",
              "      <td>0.444630</td>\n",
              "    </tr>\n",
              "    <tr>\n",
              "      <th>12</th>\n",
              "      <td>13</td>\n",
              "      <td>0.439403</td>\n",
              "    </tr>\n",
              "    <tr>\n",
              "      <th>13</th>\n",
              "      <td>14</td>\n",
              "      <td>0.415241</td>\n",
              "    </tr>\n",
              "    <tr>\n",
              "      <th>14</th>\n",
              "      <td>15</td>\n",
              "      <td>0.396530</td>\n",
              "    </tr>\n",
              "    <tr>\n",
              "      <th>15</th>\n",
              "      <td>16</td>\n",
              "      <td>0.390067</td>\n",
              "    </tr>\n",
              "    <tr>\n",
              "      <th>16</th>\n",
              "      <td>17</td>\n",
              "      <td>0.384499</td>\n",
              "    </tr>\n",
              "    <tr>\n",
              "      <th>17</th>\n",
              "      <td>18</td>\n",
              "      <td>0.371065</td>\n",
              "    </tr>\n",
              "    <tr>\n",
              "      <th>18</th>\n",
              "      <td>19</td>\n",
              "      <td>0.359921</td>\n",
              "    </tr>\n",
              "  </tbody>\n",
              "</table>\n",
              "</div>"
            ],
            "text/plain": [
              "    Num of neighbors  Valid accuracy Score\n",
              "0                  1              0.948692\n",
              "1                  2              0.724055\n",
              "2                  3              0.692330\n",
              "3                  4              0.661807\n",
              "4                  5              0.602458\n",
              "5                  6              0.512580\n",
              "6                  7              0.483244\n",
              "7                  8              0.461982\n",
              "8                  9              0.431863\n",
              "9                 10              0.429456\n",
              "10                11              0.441679\n",
              "11                12              0.444630\n",
              "12                13              0.439403\n",
              "13                14              0.415241\n",
              "14                15              0.396530\n",
              "15                16              0.390067\n",
              "16                17              0.384499\n",
              "17                18              0.371065\n",
              "18                19              0.359921"
            ]
          },
          "metadata": {
            "tags": []
          },
          "execution_count": 71
        }
      ]
    },
    {
      "cell_type": "code",
      "metadata": {
        "id": "kaMDeVg5C8Qt",
        "colab_type": "code",
        "outputId": "75e6cefb-cb9f-42fe-aa57-0f8d8a706b03",
        "colab": {
          "base_uri": "https://localhost:8080/",
          "height": 314
        }
      },
      "source": [
        "#Plot accuracy Vs validation set accuracy of the model\n",
        "sns.set_style(\"whitegrid\")\n",
        "sns.pairplot(eval_df,x_vars = \"Num of neighbors\",\n",
        "             y_vars = \"Valid accuracy Score\",plot_kws = {'s': 60},height = 4.0)"
      ],
      "execution_count": 0,
      "outputs": [
        {
          "output_type": "execute_result",
          "data": {
            "text/plain": [
              "<seaborn.axisgrid.PairGrid at 0x7f936fddac50>"
            ]
          },
          "metadata": {
            "tags": []
          },
          "execution_count": 72
        },
        {
          "output_type": "display_data",
          "data": {
            "image/png": "[encoded data removed]",
            "text/plain": [
              "<Figure size 288x288 with 1 Axes>"
            ]
          },
          "metadata": {
            "tags": []
          }
        }
      ]
    },
    {
      "cell_type": "code",
      "metadata": {
        "id": "uTToqCAuC8YV",
        "colab_type": "code",
        "outputId": "37bb7fcd-d32f-437a-bf60-2888adeb83a7",
        "colab": {
          "base_uri": "https://localhost:8080/",
          "height": 67
        }
      },
      "source": [
        "''' K = 1 '''\n",
        "\n",
        "\n",
        "knn_model_fin = KNeighborsRegressor(n_neighbors = 1,weights = 'uniform')\n",
        "knn_model_fin.fit(X,Y)\n",
        "\n"
      ],
      "execution_count": 0,
      "outputs": [
        {
          "output_type": "execute_result",
          "data": {
            "text/plain": [
              "KNeighborsRegressor(algorithm='auto', leaf_size=30, metric='minkowski',\n",
              "                    metric_params=None, n_jobs=None, n_neighbors=1, p=2,\n",
              "                    weights='uniform')"
            ]
          },
          "metadata": {
            "tags": []
          },
          "execution_count": 74
        }
      ]
    },
    {
      "cell_type": "markdown",
      "metadata": {
        "id": "5BM9O-tYDtNz",
        "colab_type": "text"
      },
      "source": [
        "**Validating on test data**"
      ]
    },
    {
      "cell_type": "code",
      "metadata": {
        "id": "trAQy9sjC8a2",
        "colab_type": "code",
        "colab": {}
      },
      "source": [
        "#Testing...\n",
        "Y_test_pred_kNN = knn_model_fin.predict(X_test)"
      ],
      "execution_count": 0,
      "outputs": []
    },
    {
      "cell_type": "code",
      "metadata": {
        "id": "9_vWcGopC8eB",
        "colab_type": "code",
        "outputId": "4e8fba3f-2184-4cfa-9abc-4236a1feab58",
        "colab": {
          "base_uri": "https://localhost:8080/",
          "height": 34
        }
      },
      "source": [
        "knn_model_fin.score(X_test, Y_test)"
      ],
      "execution_count": 0,
      "outputs": [
        {
          "output_type": "execute_result",
          "data": {
            "text/plain": [
              "0.9476578002946363"
            ]
          },
          "metadata": {
            "tags": []
          },
          "execution_count": 77
        }
      ]
    },
    {
      "cell_type": "code",
      "metadata": {
        "id": "G62_sSGLC8jP",
        "colab_type": "code",
        "outputId": "04433a8f-0595-44f3-9aab-8629c0f1ca5e",
        "colab": {
          "base_uri": "https://localhost:8080/",
          "height": 34
        }
      },
      "source": [
        "mae_test_kNN = mean_absolute_error(Y_test, Y_test_pred_kNN)\n",
        "mae_test_kNN"
      ],
      "execution_count": 0,
      "outputs": [
        {
          "output_type": "execute_result",
          "data": {
            "text/plain": [
              "2150.8805752250464"
            ]
          },
          "metadata": {
            "tags": []
          },
          "execution_count": 78
        }
      ]
    },
    {
      "cell_type": "code",
      "metadata": {
        "id": "S5sLgTbuC8l_",
        "colab_type": "code",
        "outputId": "4a64eccd-aea4-4c32-a437-d25eba526f11",
        "colab": {
          "base_uri": "https://localhost:8080/",
          "height": 34
        }
      },
      "source": [
        "med_test_kNN = median_absolute_error(Y_test, Y_test_pred_kNN)\n",
        "med_test_kNN"
      ],
      "execution_count": 0,
      "outputs": [
        {
          "output_type": "execute_result",
          "data": {
            "text/plain": [
              "819.0450000000003"
            ]
          },
          "metadata": {
            "tags": []
          },
          "execution_count": 79
        }
      ]
    },
    {
      "cell_type": "code",
      "metadata": {
        "id": "71Fi-EOrC8rd",
        "colab_type": "code",
        "colab": {}
      },
      "source": [
        "model=\"KNeighborsRegressor\"\n",
        "model_list_mae.append(model)\n",
        "model_list_med.append(model)\n",
        "mae_list.append(mae_test_kNN)\n",
        "med_list.append(med_test_kNN)"
      ],
      "execution_count": 0,
      "outputs": []
    },
    {
      "cell_type": "code",
      "metadata": {
        "id": "c_cOIyx4C8oc",
        "colab_type": "code",
        "outputId": "ff80c743-1bf7-41dc-addf-36bd0bbb1373",
        "colab": {
          "base_uri": "https://localhost:8080/",
          "height": 522
        }
      },
      "source": [
        "'''Visualizing train and test mean absolute error and median absolute error '''\n",
        "\n",
        "plt.figure(figsize = (7,6))\n",
        "plt.xticks(rotation=45)\n",
        "plt.title('Error Vs Train_Test data')\n",
        "plt.ylabel('Error')\n",
        "plt.xlabel('Train_Test data')\n",
        "x_number_list = [ \"Train_mean_absolute error\", \"Test_mean_absolute_error\", \"Train_median_absolute_error\", \"Test_median absolute error\" ]\n",
        "y_number_list = [mae_valid_kNN, mae_test_kNN,med_valid_kNN,med_test_kNN]\n",
        "sns.barplot(x = x_number_list,y = y_number_list)"
      ],
      "execution_count": 0,
      "outputs": [
        {
          "output_type": "execute_result",
          "data": {
            "text/plain": [
              "<matplotlib.axes._subplots.AxesSubplot at 0x7f936fdda400>"
            ]
          },
          "metadata": {
            "tags": []
          },
          "execution_count": 81
        },
        {
          "output_type": "display_data",
          "data": {
            "image/png": "[encoded data removed]",
            "text/plain": [
              "<Figure size 504x432 with 1 Axes>"
            ]
          },
          "metadata": {
            "tags": []
          }
        }
      ]
    },
    {
      "cell_type": "markdown",
      "metadata": {
        "id": "53U_60eDEUTT",
        "colab_type": "text"
      },
      "source": [
        "# **Build and Train a Deep Neural Network**"
      ]
    },
    {
      "cell_type": "code",
      "metadata": {
        "id": "J-TnoeuKC8Wd",
        "colab_type": "code",
        "colab": {}
      },
      "source": [
        "# Use scikit-learn to grid search the batch size and epochs\n",
        "import numpy\n",
        "from sklearn.model_selection import GridSearchCV\n",
        "from keras.models import Sequential\n",
        "from keras.layers import Dense\n",
        "from keras.wrappers.scikit_learn import KerasRegressor"
      ],
      "execution_count": 0,
      "outputs": []
    },
    {
      "cell_type": "code",
      "metadata": {
        "id": "U7LdBszsC8Tf",
        "colab_type": "code",
        "colab": {}
      },
      "source": [
        "# Function to create model, required for KerasRegressor\n",
        "def create_model():\n",
        "    model = Sequential()\n",
        "    model.add(Dense(15, input_dim=12, init='normal', activation='relu'))\n",
        "    model.add(Dense(17, init='normal', activation='relu'))\n",
        "    model.add(Dense(14, init='normal', activation='relu'))\n",
        "    model.add(Dense(9, init='normal', activation='relu'))\n",
        "    model.add(Dense(5, init='normal', activation='relu'))\n",
        "    model.add(Dense(1, init='normal'))\n",
        "    model.compile(loss='mean_absolute_error', optimizer='adam',metrics=['mean_absolute_error'])\n",
        "    return model"
      ],
      "execution_count": 0,
      "outputs": []
    },
    {
      "cell_type": "markdown",
      "metadata": {
        "id": "NcRoFnxERw90",
        "colab_type": "text"
      },
      "source": [
        "**Hyperparameter Tuning**"
      ]
    },
    {
      "cell_type": "code",
      "metadata": {
        "id": "pXzFijkhC1RS",
        "colab_type": "code",
        "colab": {}
      },
      "source": [
        "# fix random seed for reproducibility\n",
        "seed = 7\n",
        "numpy.random.seed(seed)"
      ],
      "execution_count": 0,
      "outputs": []
    },
    {
      "cell_type": "code",
      "metadata": {
        "id": "1bzDsKnMClmt",
        "colab_type": "code",
        "colab": {}
      },
      "source": [
        "# create model\n",
        "estimator_model = KerasRegressor(build_fn=create_model,nb_epoch=2, batch_size=50000, verbose=0 )"
      ],
      "execution_count": 0,
      "outputs": []
    },
    {
      "cell_type": "code",
      "metadata": {
        "id": "okFJ5eFCClrQ",
        "colab_type": "code",
        "colab": {}
      },
      "source": [
        "# define the grid search parameters\n",
        "batch_size = [10000,1000]\n",
        "epochs = [1,5,25]"
      ],
      "execution_count": 0,
      "outputs": []
    },
    {
      "cell_type": "code",
      "metadata": {
        "id": "ECg00EHMClu6",
        "colab_type": "code",
        "colab": {}
      },
      "source": [
        "param_grid = dict(batch_size=batch_size, epochs=epochs)\n",
        "grid = GridSearchCV(estimator=estimator_model, param_grid=param_grid, n_jobs=-1)"
      ],
      "execution_count": 0,
      "outputs": []
    },
    {
      "cell_type": "code",
      "metadata": {
        "id": "qWPN2udVClpw",
        "colab_type": "code",
        "outputId": "b95d88bc-f891-4757-bdc7-3668b071422f",
        "colab": {
          "base_uri": "https://localhost:8080/",
          "height": 524
        }
      },
      "source": [
        "grid_result = grid.fit(X_train, Y_train)"
      ],
      "execution_count": 0,
      "outputs": [
        {
          "output_type": "stream",
          "text": [
            "/usr/local/lib/python3.6/dist-packages/sklearn/model_selection/_split.py:1978: FutureWarning: The default value of cv will change from 3 to 5 in version 0.22. Specify it explicitly to silence this warning.\n",
            "  warnings.warn(CV_WARNING, FutureWarning)\n",
            "/usr/local/lib/python3.6/dist-packages/joblib/externals/loky/process_executor.py:706: UserWarning: A worker stopped while some jobs were given to the executor. This can be caused by a too short worker timeout or by a memory leak.\n",
            "  \"timeout or by a memory leak.\", UserWarning\n",
            "WARNING: Logging before flag parsing goes to stderr.\n",
            "W0807 17:15:59.489659 140272602572672 deprecation_wrapper.py:119] From /usr/local/lib/python3.6/dist-packages/keras/backend/tensorflow_backend.py:74: The name tf.get_default_graph is deprecated. Please use tf.compat.v1.get_default_graph instead.\n",
            "\n",
            "/usr/local/lib/python3.6/dist-packages/ipykernel_launcher.py:3: UserWarning: Update your `Dense` call to the Keras 2 API: `Dense(15, input_dim=12, activation=\"relu\", kernel_initializer=\"normal\")`\n",
            "  This is separate from the ipykernel package so we can avoid doing imports until\n",
            "W0807 17:15:59.515539 140272602572672 deprecation_wrapper.py:119] From /usr/local/lib/python3.6/dist-packages/keras/backend/tensorflow_backend.py:517: The name tf.placeholder is deprecated. Please use tf.compat.v1.placeholder instead.\n",
            "\n",
            "W0807 17:15:59.522272 140272602572672 deprecation_wrapper.py:119] From /usr/local/lib/python3.6/dist-packages/keras/backend/tensorflow_backend.py:4115: The name tf.random_normal is deprecated. Please use tf.random.normal instead.\n",
            "\n",
            "/usr/local/lib/python3.6/dist-packages/ipykernel_launcher.py:4: UserWarning: Update your `Dense` call to the Keras 2 API: `Dense(17, activation=\"relu\", kernel_initializer=\"normal\")`\n",
            "  after removing the cwd from sys.path.\n",
            "/usr/local/lib/python3.6/dist-packages/ipykernel_launcher.py:5: UserWarning: Update your `Dense` call to the Keras 2 API: `Dense(14, activation=\"relu\", kernel_initializer=\"normal\")`\n",
            "  \"\"\"\n",
            "/usr/local/lib/python3.6/dist-packages/ipykernel_launcher.py:6: UserWarning: Update your `Dense` call to the Keras 2 API: `Dense(9, activation=\"relu\", kernel_initializer=\"normal\")`\n",
            "  \n",
            "/usr/local/lib/python3.6/dist-packages/ipykernel_launcher.py:7: UserWarning: Update your `Dense` call to the Keras 2 API: `Dense(5, activation=\"relu\", kernel_initializer=\"normal\")`\n",
            "  import sys\n",
            "/usr/local/lib/python3.6/dist-packages/ipykernel_launcher.py:8: UserWarning: Update your `Dense` call to the Keras 2 API: `Dense(1, kernel_initializer=\"normal\")`\n",
            "  \n",
            "W0807 17:15:59.609582 140272602572672 deprecation_wrapper.py:119] From /usr/local/lib/python3.6/dist-packages/keras/optimizers.py:790: The name tf.train.Optimizer is deprecated. Please use tf.compat.v1.train.Optimizer instead.\n",
            "\n",
            "W0807 17:16:00.054816 140272602572672 deprecation_wrapper.py:119] From /usr/local/lib/python3.6/dist-packages/keras/backend/tensorflow_backend.py:986: The name tf.assign_add is deprecated. Please use tf.compat.v1.assign_add instead.\n",
            "\n",
            "W0807 17:16:00.223903 140272602572672 deprecation_wrapper.py:119] From /usr/local/lib/python3.6/dist-packages/keras/backend/tensorflow_backend.py:973: The name tf.assign is deprecated. Please use tf.compat.v1.assign instead.\n",
            "\n"
          ],
          "name": "stderr"
        }
      ]
    },
    {
      "cell_type": "code",
      "metadata": {
        "id": "3vvZgcxUEv_C",
        "colab_type": "code",
        "outputId": "adce181b-daf7-461f-c1c4-367884aff7db",
        "colab": {
          "base_uri": "https://localhost:8080/",
          "height": 134
        }
      },
      "source": [
        "'''The scores are negative MSE scores, i.e. negate them and you get the MSE. The thing is that GridSearchCV,\n",
        "by convention, always tries to maximize its score so loss functions like MSE have to be negated.'''\n",
        "print(\"Best: %f using %s\" % (grid_result.best_score_, grid_result.best_params_))\n",
        "means = grid_result.cv_results_['mean_test_score']\n",
        "stds = grid_result.cv_results_['std_test_score']\n",
        "params = grid_result.cv_results_['params']\n",
        "for mean, stdev, param in zip(means, stds, params):\n",
        "    print(\"%f (%f) with: %r\" % (mean, stdev, param))"
      ],
      "execution_count": 0,
      "outputs": [
        {
          "output_type": "stream",
          "text": [
            "Best: -13241.492356 using {'batch_size': 1000, 'epochs': 25}\n",
            "-15923.900271 (226.283705) with: {'batch_size': 10000, 'epochs': 1}\n",
            "-15865.222184 (230.885987) with: {'batch_size': 10000, 'epochs': 5}\n",
            "-13263.455765 (185.318523) with: {'batch_size': 10000, 'epochs': 25}\n",
            "-14701.990309 (668.614475) with: {'batch_size': 1000, 'epochs': 1}\n",
            "-13266.627951 (182.152678) with: {'batch_size': 1000, 'epochs': 5}\n",
            "-13241.492356 (197.387528) with: {'batch_size': 1000, 'epochs': 25}\n"
          ],
          "name": "stdout"
        }
      ]
    },
    {
      "cell_type": "code",
      "metadata": {
        "id": "cdSn6wG-EwFI",
        "colab_type": "code",
        "outputId": "ae24c852-5e36-44c5-ee52-9d274e4f9d24",
        "colab": {
          "base_uri": "https://localhost:8080/",
          "height": 272
        }
      },
      "source": [
        "# Fit the DNN with your train data and evaluate on validation data\n",
        "\n",
        "history = estimator_model.fit(X_train, Y_train, validation_data=(X_valid, Y_valid), nb_epoch=25, batch_size=1000)"
      ],
      "execution_count": 0,
      "outputs": [
        {
          "output_type": "stream",
          "text": [
            "/usr/local/lib/python3.6/dist-packages/ipykernel_launcher.py:3: UserWarning: Update your `Dense` call to the Keras 2 API: `Dense(15, input_dim=12, activation=\"relu\", kernel_initializer=\"normal\")`\n",
            "  This is separate from the ipykernel package so we can avoid doing imports until\n",
            "/usr/local/lib/python3.6/dist-packages/ipykernel_launcher.py:4: UserWarning: Update your `Dense` call to the Keras 2 API: `Dense(17, activation=\"relu\", kernel_initializer=\"normal\")`\n",
            "  after removing the cwd from sys.path.\n",
            "/usr/local/lib/python3.6/dist-packages/ipykernel_launcher.py:5: UserWarning: Update your `Dense` call to the Keras 2 API: `Dense(14, activation=\"relu\", kernel_initializer=\"normal\")`\n",
            "  \"\"\"\n",
            "/usr/local/lib/python3.6/dist-packages/ipykernel_launcher.py:6: UserWarning: Update your `Dense` call to the Keras 2 API: `Dense(9, activation=\"relu\", kernel_initializer=\"normal\")`\n",
            "  \n",
            "/usr/local/lib/python3.6/dist-packages/ipykernel_launcher.py:7: UserWarning: Update your `Dense` call to the Keras 2 API: `Dense(5, activation=\"relu\", kernel_initializer=\"normal\")`\n",
            "  import sys\n",
            "/usr/local/lib/python3.6/dist-packages/ipykernel_launcher.py:8: UserWarning: Update your `Dense` call to the Keras 2 API: `Dense(1, kernel_initializer=\"normal\")`\n",
            "  \n",
            "/usr/local/lib/python3.6/dist-packages/keras/wrappers/scikit_learn.py:152: UserWarning: The `nb_epoch` argument in `fit` has been renamed `epochs`.\n",
            "  history = self.model.fit(x, y, **fit_args)\n"
          ],
          "name": "stderr"
        }
      ]
    },
    {
      "cell_type": "code",
      "metadata": {
        "id": "4ibUMXSZEwCJ",
        "colab_type": "code",
        "colab": {}
      },
      "source": [
        "y_pred_valid = estimator_model.predict(X_valid)"
      ],
      "execution_count": 0,
      "outputs": []
    },
    {
      "cell_type": "code",
      "metadata": {
        "id": "npvy4WgGE36e",
        "colab_type": "code",
        "outputId": "f81ff6c6-3ada-4d1c-aed4-b3d132d83021",
        "colab": {
          "base_uri": "https://localhost:8080/",
          "height": 34
        }
      },
      "source": [
        "mae_valid_DNN = mean_absolute_error(Y_valid, y_pred_valid)\n",
        "mae_valid_DNN"
      ],
      "execution_count": 0,
      "outputs": [
        {
          "output_type": "execute_result",
          "data": {
            "text/plain": [
              "14414.509968687622"
            ]
          },
          "metadata": {
            "tags": []
          },
          "execution_count": 92
        }
      ]
    },
    {
      "cell_type": "code",
      "metadata": {
        "id": "tvSX9M2JE3-H",
        "colab_type": "code",
        "outputId": "028d8753-16a1-4ad6-f244-a09b55e22d1a",
        "colab": {
          "base_uri": "https://localhost:8080/",
          "height": 34
        }
      },
      "source": [
        "med_valid_DNN = median_absolute_error(Y_valid, y_pred_valid)\n",
        "med_valid_DNN"
      ],
      "execution_count": 0,
      "outputs": [
        {
          "output_type": "execute_result",
          "data": {
            "text/plain": [
              "6591.5748046875"
            ]
          },
          "metadata": {
            "tags": []
          },
          "execution_count": 93
        }
      ]
    },
    {
      "cell_type": "markdown",
      "metadata": {
        "id": "ChQL0VM1FA5b",
        "colab_type": "text"
      },
      "source": [
        "**Epoch vs train-validation accuracy**"
      ]
    },
    {
      "cell_type": "code",
      "metadata": {
        "id": "xvX0i66sE8g-",
        "colab_type": "code",
        "outputId": "03f4fd66-eadf-462a-eb9a-1c216203e5b6",
        "colab": {
          "base_uri": "https://localhost:8080/",
          "height": 295
        }
      },
      "source": [
        "#accuracy vs epoch\n",
        "plt.plot(history.history['acc'])\n",
        "plt.plot(history.history['val_acc'])\n",
        "plt.title('model accuracy')\n",
        "plt.ylabel('accuracy')\n",
        "plt.xlabel('epoch')\n",
        "plt.legend(['train', 'validation'], loc='upper left')\n",
        "plt.show()"
      ],
      "execution_count": 0,
      "outputs": [
        {
          "output_type": "display_data",
          "data": {
            "image/png": "[encoded data removed]",
            "text/plain": [
              "<Figure size 432x288 with 1 Axes>"
            ]
          },
          "metadata": {
            "tags": []
          }
        }
      ]
    },
    {
      "cell_type": "markdown",
      "metadata": {
        "id": "8cmr1byAFImD",
        "colab_type": "text"
      },
      "source": [
        "**Epoch vs train-validation loss**"
      ]
    },
    {
      "cell_type": "code",
      "metadata": {
        "id": "xWyWLRDlFKvZ",
        "colab_type": "code",
        "outputId": "09589162-f2ea-4c60-fcef-782c08603246",
        "colab": {
          "base_uri": "https://localhost:8080/",
          "height": 295
        }
      },
      "source": [
        "# epoch vs loss\n",
        "plt.plot(history.history['loss'])\n",
        "plt.plot(history.history['val_loss'])\n",
        "plt.title('model loss')\n",
        "plt.ylabel('loss')\n",
        "plt.xlabel('epoch')\n",
        "plt.legend(['train', 'test'], loc='upper left')\n",
        "plt.show()"
      ],
      "execution_count": 0,
      "outputs": [
        {
          "output_type": "display_data",
          "data": {
            "image/png": "[encoded data removed]",
            "text/plain": [
              "<Figure size 432x288 with 1 Axes>"
            ]
          },
          "metadata": {
            "tags": []
          }
        }
      ]
    },
    {
      "cell_type": "markdown",
      "metadata": {
        "id": "ZwOGeI9XFShW",
        "colab_type": "text"
      },
      "source": [
        "**Validating on test data**"
      ]
    },
    {
      "cell_type": "code",
      "metadata": {
        "id": "K6BMo7xwFKzI",
        "colab_type": "code",
        "outputId": "34562cca-5e26-4e82-ce58-532fbc6ca8c8",
        "colab": {
          "base_uri": "https://localhost:8080/",
          "height": 272
        }
      },
      "source": [
        "# Fit the DNN with your test data\n",
        "\n",
        "history1 = estimator_model.fit(X_train, Y_train, validation_data=(X_test, Y_test), nb_epoch=25, batch_size=1000)"
      ],
      "execution_count": 0,
      "outputs": [
        {
          "output_type": "stream",
          "text": [
            "/usr/local/lib/python3.6/dist-packages/ipykernel_launcher.py:3: UserWarning: Update your `Dense` call to the Keras 2 API: `Dense(15, input_dim=12, activation=\"relu\", kernel_initializer=\"normal\")`\n",
            "  This is separate from the ipykernel package so we can avoid doing imports until\n",
            "/usr/local/lib/python3.6/dist-packages/ipykernel_launcher.py:4: UserWarning: Update your `Dense` call to the Keras 2 API: `Dense(17, activation=\"relu\", kernel_initializer=\"normal\")`\n",
            "  after removing the cwd from sys.path.\n",
            "/usr/local/lib/python3.6/dist-packages/ipykernel_launcher.py:5: UserWarning: Update your `Dense` call to the Keras 2 API: `Dense(14, activation=\"relu\", kernel_initializer=\"normal\")`\n",
            "  \"\"\"\n",
            "/usr/local/lib/python3.6/dist-packages/ipykernel_launcher.py:6: UserWarning: Update your `Dense` call to the Keras 2 API: `Dense(9, activation=\"relu\", kernel_initializer=\"normal\")`\n",
            "  \n",
            "/usr/local/lib/python3.6/dist-packages/ipykernel_launcher.py:7: UserWarning: Update your `Dense` call to the Keras 2 API: `Dense(5, activation=\"relu\", kernel_initializer=\"normal\")`\n",
            "  import sys\n",
            "/usr/local/lib/python3.6/dist-packages/ipykernel_launcher.py:8: UserWarning: Update your `Dense` call to the Keras 2 API: `Dense(1, kernel_initializer=\"normal\")`\n",
            "  \n",
            "/usr/local/lib/python3.6/dist-packages/keras/wrappers/scikit_learn.py:152: UserWarning: The `nb_epoch` argument in `fit` has been renamed `epochs`.\n",
            "  history = self.model.fit(x, y, **fit_args)\n"
          ],
          "name": "stderr"
        }
      ]
    },
    {
      "cell_type": "code",
      "metadata": {
        "id": "SQF6bkSSFe-d",
        "colab_type": "code",
        "colab": {}
      },
      "source": [
        "y_pred_test=estimator_model.predict(X_test)"
      ],
      "execution_count": 0,
      "outputs": []
    },
    {
      "cell_type": "code",
      "metadata": {
        "id": "6XIHpRkPFfBi",
        "colab_type": "code",
        "outputId": "b72bd8a2-9617-48e7-9010-53dc871b2ffb",
        "colab": {
          "base_uri": "https://localhost:8080/",
          "height": 34
        }
      },
      "source": [
        "mae_test_DNN = mean_absolute_error(Y_test, y_pred_test)\n",
        "mae_test_DNN"
      ],
      "execution_count": 0,
      "outputs": [
        {
          "output_type": "execute_result",
          "data": {
            "text/plain": [
              "13262.234066634413"
            ]
          },
          "metadata": {
            "tags": []
          },
          "execution_count": 98
        }
      ]
    },
    {
      "cell_type": "code",
      "metadata": {
        "id": "6vDQ9P0JFfGc",
        "colab_type": "code",
        "outputId": "d892c7d4-0d45-4e7b-f1f8-b36a9ee40cc3",
        "colab": {
          "base_uri": "https://localhost:8080/",
          "height": 34
        }
      },
      "source": [
        "med_test_DNN = median_absolute_error(Y_test, y_pred_test)\n",
        "med_test_DNN"
      ],
      "execution_count": 0,
      "outputs": [
        {
          "output_type": "execute_result",
          "data": {
            "text/plain": [
              "6488.158798828125"
            ]
          },
          "metadata": {
            "tags": []
          },
          "execution_count": 99
        }
      ]
    },
    {
      "cell_type": "code",
      "metadata": {
        "id": "zDGoOBXHFfKA",
        "colab_type": "code",
        "colab": {}
      },
      "source": [
        "model = \"Deep Neural Network\"\n",
        "model_list_mae.append(model)\n",
        "model_list_med.append(model)\n",
        "mae_list.append(mae_test_DNN)\n",
        "med_list.append(med_test_DNN)"
      ],
      "execution_count": 0,
      "outputs": []
    },
    {
      "cell_type": "code",
      "metadata": {
        "id": "AzgUd8sEFfEI",
        "colab_type": "code",
        "outputId": "f6656576-6afc-47bd-e171-2ee294544783",
        "colab": {
          "base_uri": "https://localhost:8080/",
          "height": 522
        }
      },
      "source": [
        "'''Visualizing train and test mean absolute error and median absolute error '''\n",
        "\n",
        "plt.figure(figsize = (7,6))\n",
        "plt.xticks(rotation=45)\n",
        "plt.title('Error Vs Train_Test data')\n",
        "plt.ylabel('Error')\n",
        "plt.xlabel('Train_Test data')\n",
        "x_number_list = [ \"Train_mean_absolute error\", \"Test_mean_absolute_error\", \"Train_median_absolute_error\", \"Test_median absolute error\" ]\n",
        "y_number_list = [mae_valid_DNN, mae_test_DNN,med_valid_DNN,med_test_DNN]\n",
        "sns.barplot(x = x_number_list,y = y_number_list)"
      ],
      "execution_count": 0,
      "outputs": [
        {
          "output_type": "execute_result",
          "data": {
            "text/plain": [
              "<matplotlib.axes._subplots.AxesSubplot at 0x7f9367791828>"
            ]
          },
          "metadata": {
            "tags": []
          },
          "execution_count": 101
        },
        {
          "output_type": "display_data",
          "data": {
            "image/png": "[encoded data removed]",
            "text/plain": [
              "<Figure size 504x432 with 1 Axes>"
            ]
          },
          "metadata": {
            "tags": []
          }
        }
      ]
    },
    {
      "cell_type": "markdown",
      "metadata": {
        "id": "r-pkDTrAGGg-",
        "colab_type": "text"
      },
      "source": [
        "# **Build and Train a XGBOOST model**"
      ]
    },
    {
      "cell_type": "code",
      "metadata": {
        "id": "yz4HA0d8GH9z",
        "colab_type": "code",
        "outputId": "fdfbf041-4d0c-4213-d55e-6f2137fa6e71",
        "colab": {
          "base_uri": "https://localhost:8080/",
          "height": 185
        }
      },
      "source": [
        "# create a regressor object \n",
        "XGregr = XGBRegressor(max_depth=100, random_state=1, learning_rate=0.1,n_estimators=100,eval_metric='mae')\n",
        "XGregr.fit(X_train, Y_train)"
      ],
      "execution_count": 0,
      "outputs": [
        {
          "output_type": "stream",
          "text": [
            "/usr/local/lib/python3.6/dist-packages/xgboost/core.py:587: FutureWarning: Series.base is deprecated and will be removed in a future version\n",
            "  if getattr(data, 'base', None) is not None and \\\n"
          ],
          "name": "stderr"
        },
        {
          "output_type": "stream",
          "text": [
            "[17:20:30] WARNING: /workspace/src/objective/regression_obj.cu:152: reg:linear is now deprecated in favor of reg:squarederror.\n"
          ],
          "name": "stdout"
        },
        {
          "output_type": "execute_result",
          "data": {
            "text/plain": [
              "XGBRegressor(base_score=0.5, booster='gbtree', colsample_bylevel=1,\n",
              "             colsample_bynode=1, colsample_bytree=1, eval_metric='mae', gamma=0,\n",
              "             importance_type='gain', learning_rate=0.1, max_delta_step=0,\n",
              "             max_depth=100, min_child_weight=1, missing=None, n_estimators=100,\n",
              "             n_jobs=1, nthread=None, objective='reg:linear', random_state=1,\n",
              "             reg_alpha=0, reg_lambda=1, scale_pos_weight=1, seed=None,\n",
              "             silent=None, subsample=1, verbosity=1)"
            ]
          },
          "metadata": {
            "tags": []
          },
          "execution_count": 102
        }
      ]
    },
    {
      "cell_type": "code",
      "metadata": {
        "id": "cDmEP5BRGIBg",
        "colab_type": "code",
        "colab": {}
      },
      "source": [
        "y_pred_XG = XGregr.predict(X_valid)"
      ],
      "execution_count": 0,
      "outputs": []
    },
    {
      "cell_type": "code",
      "metadata": {
        "id": "7zUELGnTGIMa",
        "colab_type": "code",
        "outputId": "58ff8e4a-6e7c-4075-912b-a77df05b198e",
        "colab": {
          "base_uri": "https://localhost:8080/",
          "height": 34
        }
      },
      "source": [
        "\n",
        "mae_valid_XG = mean_absolute_error(Y_valid, y_pred_XG)\n",
        "mae_valid_XG"
      ],
      "execution_count": 0,
      "outputs": [
        {
          "output_type": "execute_result",
          "data": {
            "text/plain": [
              "1918.6948022271831"
            ]
          },
          "metadata": {
            "tags": []
          },
          "execution_count": 104
        }
      ]
    },
    {
      "cell_type": "code",
      "metadata": {
        "id": "i5TYt-XSGIPQ",
        "colab_type": "code",
        "outputId": "35396ef7-d7f6-4974-d8d2-879d56119af3",
        "colab": {
          "base_uri": "https://localhost:8080/",
          "height": 34
        }
      },
      "source": [
        "med_valid_XG = median_absolute_error(Y_valid, y_pred_XG)\n",
        "med_valid_XG"
      ],
      "execution_count": 0,
      "outputs": [
        {
          "output_type": "execute_result",
          "data": {
            "text/plain": [
              "725.5493261718748"
            ]
          },
          "metadata": {
            "tags": []
          },
          "execution_count": 105
        }
      ]
    },
    {
      "cell_type": "markdown",
      "metadata": {
        "id": "BrcCpCZzRI9r",
        "colab_type": "text"
      },
      "source": [
        "**Feature importance**"
      ]
    },
    {
      "cell_type": "code",
      "metadata": {
        "id": "MFPHsO93GISx",
        "colab_type": "code",
        "outputId": "2f40f359-655a-4093-995f-13db65a8ed5e",
        "colab": {
          "base_uri": "https://localhost:8080/",
          "height": 409
        }
      },
      "source": [
        "'''Calculate feature importance scores with your model'''\n",
        "\n",
        "feat_imps = pd.DataFrame(XGregr.feature_importances_, index = X_train.columns,\n",
        "                                    columns=['Importance score']).sort_values('Importance score',ascending=False)\n",
        "feat_imps = feat_imps.reset_index()\n",
        "feat_imps.columns = [\"Feature\",\"Importance Score\"]\n",
        "plt.figure(figsize = (8,6))\n",
        "sns.barplot(x = \"Importance Score\",y = \"Feature\",data = feat_imps,orient = \"h\")"
      ],
      "execution_count": 0,
      "outputs": [
        {
          "output_type": "execute_result",
          "data": {
            "text/plain": [
              "<matplotlib.axes._subplots.AxesSubplot at 0x7f936faf0588>"
            ]
          },
          "metadata": {
            "tags": []
          },
          "execution_count": 106
        },
        {
          "output_type": "display_data",
          "data": {
            "image/png": "[encoded data removed]",
            "text/plain": [
              "<Figure size 576x432 with 1 Axes>"
            ]
          },
          "metadata": {
            "tags": []
          }
        }
      ]
    },
    {
      "cell_type": "markdown",
      "metadata": {
        "id": "6XZKpea3GkGg",
        "colab_type": "text"
      },
      "source": [
        "**Validating on test data**"
      ]
    },
    {
      "cell_type": "code",
      "metadata": {
        "id": "mUWKnNdXGfkT",
        "colab_type": "code",
        "colab": {}
      },
      "source": [
        "ytest_pred_XG = XGregr.predict(X_test)"
      ],
      "execution_count": 0,
      "outputs": []
    },
    {
      "cell_type": "code",
      "metadata": {
        "id": "o1ZcsX1gGfnm",
        "colab_type": "code",
        "outputId": "d913cd1c-1230-4a7c-831d-4f2e0af4a002",
        "colab": {
          "base_uri": "https://localhost:8080/",
          "height": 34
        }
      },
      "source": [
        "\n",
        "mae_test_XG = mean_absolute_error(Y_test, ytest_pred_XG)\n",
        "mae_test_XG"
      ],
      "execution_count": 0,
      "outputs": [
        {
          "output_type": "execute_result",
          "data": {
            "text/plain": [
              "1762.6826792373279"
            ]
          },
          "metadata": {
            "tags": []
          },
          "execution_count": 108
        }
      ]
    },
    {
      "cell_type": "code",
      "metadata": {
        "id": "2KfrWopRGfqq",
        "colab_type": "code",
        "outputId": "7ec0b429-759b-4952-da4e-d4df67b84b8a",
        "colab": {
          "base_uri": "https://localhost:8080/",
          "height": 34
        }
      },
      "source": [
        "\n",
        "med_test_XG = median_absolute_error(Y_test, ytest_pred_XG)\n",
        "med_test_XG"
      ],
      "execution_count": 0,
      "outputs": [
        {
          "output_type": "execute_result",
          "data": {
            "text/plain": [
              "725.9247546386719"
            ]
          },
          "metadata": {
            "tags": []
          },
          "execution_count": 109
        }
      ]
    },
    {
      "cell_type": "code",
      "metadata": {
        "id": "9ycPPw49Gtso",
        "colab_type": "code",
        "colab": {}
      },
      "source": [
        "model=\"XGBRegressor\"\n",
        "model_list_mae.append(model)\n",
        "model_list_med.append(model)\n",
        "mae_list.append(mae_test_XG)\n",
        "med_list.append(med_test_XG)"
      ],
      "execution_count": 0,
      "outputs": []
    },
    {
      "cell_type": "code",
      "metadata": {
        "id": "xgge7MEDGtwY",
        "colab_type": "code",
        "colab": {}
      },
      "source": [
        "'''Visualizing train and test mean absolute error and median absolute error '''\n",
        "\n",
        "plt.figure(figsize = (7,6))\n",
        "plt.xticks(rotation=45)\n",
        "plt.title('Error Vs Train_Test data')\n",
        "plt.ylabel('Error')\n",
        "plt.xlabel('Train_Test data')\n",
        "x_number_list = [ \"Train_mean_absolute error\", \"Test_mean_absolute_error\", \"Train_median_absolute_error\", \"Test_median absolute error\" ]\n",
        "y_number_list = [mae_valid_XG, mae_test_XG,med_valid_XG,med_test_XG]\n",
        "sns.barplot(x = x_number_list,y = y_number_list)"
      ],
      "execution_count": 0,
      "outputs": []
    },
    {
      "cell_type": "markdown",
      "metadata": {
        "id": "ZMJgsAQKG1g-",
        "colab_type": "text"
      },
      "source": [
        "# **Build and Train a Random Forest model**"
      ]
    },
    {
      "cell_type": "code",
      "metadata": {
        "id": "3xgPlUi5Gtpr",
        "colab_type": "code",
        "outputId": "729bfc91-f3a0-4c7e-ff6f-f18300bba2a8",
        "colab": {
          "base_uri": "https://localhost:8080/",
          "height": 134
        }
      },
      "source": [
        "# create a regressor object \n",
        "RFregr = RandomForestRegressor(max_depth=100, random_state=0, n_estimators=100)\n",
        "RFregr.fit(X_train, Y_train)"
      ],
      "execution_count": 0,
      "outputs": [
        {
          "output_type": "execute_result",
          "data": {
            "text/plain": [
              "RandomForestRegressor(bootstrap=True, criterion='mse', max_depth=100,\n",
              "                      max_features='auto', max_leaf_nodes=None,\n",
              "                      min_impurity_decrease=0.0, min_impurity_split=None,\n",
              "                      min_samples_leaf=1, min_samples_split=2,\n",
              "                      min_weight_fraction_leaf=0.0, n_estimators=100,\n",
              "                      n_jobs=None, oob_score=False, random_state=0, verbose=0,\n",
              "                      warm_start=False)"
            ]
          },
          "metadata": {
            "tags": []
          },
          "execution_count": 111
        }
      ]
    },
    {
      "cell_type": "code",
      "metadata": {
        "id": "yS1WDMxIGtnN",
        "colab_type": "code",
        "colab": {}
      },
      "source": [
        "y_pred_RF = RFregr.predict(X_valid)"
      ],
      "execution_count": 0,
      "outputs": []
    },
    {
      "cell_type": "code",
      "metadata": {
        "id": "7P4Bz5bNG_ag",
        "colab_type": "code",
        "outputId": "261601f2-c12a-4f94-af2f-4859f041c66b",
        "colab": {
          "base_uri": "https://localhost:8080/",
          "height": 34
        }
      },
      "source": [
        "mae_valid_RF = mean_absolute_error(Y_valid, y_pred_RF)\n",
        "mae_valid_RF"
      ],
      "execution_count": 0,
      "outputs": [
        {
          "output_type": "execute_result",
          "data": {
            "text/plain": [
              "2046.0238433846714"
            ]
          },
          "metadata": {
            "tags": []
          },
          "execution_count": 113
        }
      ]
    },
    {
      "cell_type": "code",
      "metadata": {
        "id": "QZ0hFgE4G_fn",
        "colab_type": "code",
        "outputId": "a265e7b4-e73f-46fa-b825-76e114bd2c3d",
        "colab": {
          "base_uri": "https://localhost:8080/",
          "height": 34
        }
      },
      "source": [
        "med_valid_RF = median_absolute_error(Y_valid, y_pred_RF)\n",
        "med_valid_RF"
      ],
      "execution_count": 0,
      "outputs": [
        {
          "output_type": "execute_result",
          "data": {
            "text/plain": [
              "721.3759999999929"
            ]
          },
          "metadata": {
            "tags": []
          },
          "execution_count": 114
        }
      ]
    },
    {
      "cell_type": "markdown",
      "metadata": {
        "id": "PAbmbJ2iRR0J",
        "colab_type": "text"
      },
      "source": [
        "**Feature importance**"
      ]
    },
    {
      "cell_type": "code",
      "metadata": {
        "id": "JRyD-w3FG_le",
        "colab_type": "code",
        "outputId": "ecc38716-e5e9-4c91-9bc1-14642ae08bf8",
        "colab": {
          "base_uri": "https://localhost:8080/",
          "height": 409
        }
      },
      "source": [
        "'''Calculate feature importance scores with your model'''\n",
        "\n",
        "feat_imps = pd.DataFrame(RFregr.feature_importances_, index = X_train.columns,\n",
        "                                    columns=['Importance score']).sort_values('Importance score',ascending=False)\n",
        "feat_imps = feat_imps.reset_index()\n",
        "feat_imps.columns = [\"Feature\",\"Importance Score\"]\n",
        "plt.figure(figsize = (8,6))\n",
        "sns.barplot(x = \"Importance Score\",y = \"Feature\",data = feat_imps,orient = \"h\")"
      ],
      "execution_count": 0,
      "outputs": [
        {
          "output_type": "execute_result",
          "data": {
            "text/plain": [
              "<matplotlib.axes._subplots.AxesSubplot at 0x7f936fa6fa90>"
            ]
          },
          "metadata": {
            "tags": []
          },
          "execution_count": 115
        },
        {
          "output_type": "display_data",
          "data": {
            "image/png": "[encoded data removed]",
            "text/plain": [
              "<Figure size 576x432 with 1 Axes>"
            ]
          },
          "metadata": {
            "tags": []
          }
        }
      ]
    },
    {
      "cell_type": "markdown",
      "metadata": {
        "id": "eiZSY2reHHtz",
        "colab_type": "text"
      },
      "source": [
        "**Validating on test data**"
      ]
    },
    {
      "cell_type": "code",
      "metadata": {
        "id": "ICqe542TG_ig",
        "colab_type": "code",
        "colab": {}
      },
      "source": [
        "ytest_pred_RF = RFregr.predict(X_test)"
      ],
      "execution_count": 0,
      "outputs": []
    },
    {
      "cell_type": "code",
      "metadata": {
        "id": "4Hkyg5BlG_de",
        "colab_type": "code",
        "outputId": "76c0ccac-2522-4bb3-9788-7b3a01c38f93",
        "colab": {
          "base_uri": "https://localhost:8080/",
          "height": 34
        }
      },
      "source": [
        "mae_test_RF = mean_absolute_error(Y_test, ytest_pred_RF)\n",
        "mae_test_RF"
      ],
      "execution_count": 0,
      "outputs": [
        {
          "output_type": "execute_result",
          "data": {
            "text/plain": [
              "1698.3042382588342"
            ]
          },
          "metadata": {
            "tags": []
          },
          "execution_count": 117
        }
      ]
    },
    {
      "cell_type": "code",
      "metadata": {
        "id": "wP3WcS-nHOEl",
        "colab_type": "code",
        "outputId": "7e169164-eca1-4bf2-8dde-956b095a7f4b",
        "colab": {
          "base_uri": "https://localhost:8080/",
          "height": 34
        }
      },
      "source": [
        "med_test_RF = median_absolute_error(Y_test, ytest_pred_RF)\n",
        "med_test_RF"
      ],
      "execution_count": 0,
      "outputs": [
        {
          "output_type": "execute_result",
          "data": {
            "text/plain": [
              "692.9462499999979"
            ]
          },
          "metadata": {
            "tags": []
          },
          "execution_count": 118
        }
      ]
    },
    {
      "cell_type": "code",
      "metadata": {
        "id": "0f_w9WeeHOM9",
        "colab_type": "code",
        "colab": {}
      },
      "source": [
        "model=\"RandomForestRegressor\"\n",
        "model_list_mae.append(model)\n",
        "model_list_med.append(model)\n",
        "mae_list.append(mae_test_RF)\n",
        "med_list.append(med_test_RF)"
      ],
      "execution_count": 0,
      "outputs": []
    },
    {
      "cell_type": "code",
      "metadata": {
        "id": "4w07tNyvHOQx",
        "colab_type": "code",
        "outputId": "e666d3be-62e5-4644-8be9-5eafa9a0e396",
        "colab": {
          "base_uri": "https://localhost:8080/",
          "height": 522
        }
      },
      "source": [
        "'''Visualizing train and test mean absolute error and median absolute error '''\n",
        "\n",
        "plt.figure(figsize = (7,6))\n",
        "plt.xticks(rotation=45)\n",
        "plt.title('Error Vs Train_Test data')\n",
        "plt.ylabel('Error')\n",
        "plt.xlabel('Train_Test data')\n",
        "x_number_list = [ \"Train_mean_absolute error\", \"Test_mean_absolute_error\", \"Train_median_absolute_error\", \"Test_median absolute error\" ]\n",
        "y_number_list = [mae_valid_RF, mae_test_RF,med_valid_RF,med_test_RF]\n",
        "sns.barplot(x = x_number_list,y = y_number_list)"
      ],
      "execution_count": 0,
      "outputs": [
        {
          "output_type": "execute_result",
          "data": {
            "text/plain": [
              "<matplotlib.axes._subplots.AxesSubplot at 0x7f936f9bb390>"
            ]
          },
          "metadata": {
            "tags": []
          },
          "execution_count": 120
        },
        {
          "output_type": "display_data",
          "data": {
            "image/png": "[encoded data removed]",
            "text/plain": [
              "<Figure size 504x432 with 1 Axes>"
            ]
          },
          "metadata": {
            "tags": []
          }
        }
      ]
    },
    {
      "cell_type": "markdown",
      "metadata": {
        "id": "d7BI4yW9HbQ0",
        "colab_type": "text"
      },
      "source": [
        "# **Build and Train a Multivariate Regression model**"
      ]
    },
    {
      "cell_type": "code",
      "metadata": {
        "id": "UIG4WJ29HXwn",
        "colab_type": "code",
        "outputId": "9763823b-6813-4223-d1c2-2b834044b995",
        "colab": {
          "base_uri": "https://localhost:8080/",
          "height": 34
        }
      },
      "source": [
        "# There no difference even if the data is normalized or not\n",
        "from sklearn.linear_model import LinearRegression\n",
        "Lregr = LinearRegression(n_jobs=-1,normalize=True)\n",
        "Lregr.fit(X_train, Y_train)"
      ],
      "execution_count": 0,
      "outputs": [
        {
          "output_type": "execute_result",
          "data": {
            "text/plain": [
              "LinearRegression(copy_X=True, fit_intercept=True, n_jobs=-1, normalize=True)"
            ]
          },
          "metadata": {
            "tags": []
          },
          "execution_count": 121
        }
      ]
    },
    {
      "cell_type": "code",
      "metadata": {
        "id": "C3-06GuaHX0W",
        "colab_type": "code",
        "colab": {}
      },
      "source": [
        "y_pred_L = Lregr.predict(X_valid)"
      ],
      "execution_count": 0,
      "outputs": []
    },
    {
      "cell_type": "code",
      "metadata": {
        "id": "P3MHTCOnHX3Z",
        "colab_type": "code",
        "outputId": "07fd9fde-63c7-4b94-e78e-6f7eb3f2f30a",
        "colab": {
          "base_uri": "https://localhost:8080/",
          "height": 34
        }
      },
      "source": [
        "mae_valid_L = mean_absolute_error(Y_valid, y_pred_L)\n",
        "mae_valid_L"
      ],
      "execution_count": 0,
      "outputs": [
        {
          "output_type": "execute_result",
          "data": {
            "text/plain": [
              "15837.691291764013"
            ]
          },
          "metadata": {
            "tags": []
          },
          "execution_count": 123
        }
      ]
    },
    {
      "cell_type": "code",
      "metadata": {
        "id": "_kPvOs46M-5k",
        "colab_type": "code",
        "outputId": "d0585c21-cefb-4cf5-9261-25bded4338bc",
        "colab": {
          "base_uri": "https://localhost:8080/",
          "height": 34
        }
      },
      "source": [
        "med_valid_L = median_absolute_error(Y_valid, y_pred_L)\n",
        "med_valid_L"
      ],
      "execution_count": 0,
      "outputs": [
        {
          "output_type": "execute_result",
          "data": {
            "text/plain": [
              "11438.23"
            ]
          },
          "metadata": {
            "tags": []
          },
          "execution_count": 124
        }
      ]
    },
    {
      "cell_type": "markdown",
      "metadata": {
        "id": "zDnBKQkNNCtO",
        "colab_type": "text"
      },
      "source": [
        "**Validating on test data**"
      ]
    },
    {
      "cell_type": "code",
      "metadata": {
        "id": "P10atKe2M_BX",
        "colab_type": "code",
        "colab": {}
      },
      "source": [
        "ytest_pred_L = Lregr.predict(X_test)"
      ],
      "execution_count": 0,
      "outputs": []
    },
    {
      "cell_type": "code",
      "metadata": {
        "id": "nyiPs-33M_Ez",
        "colab_type": "code",
        "outputId": "e6d89773-aff8-4644-ba23-d31b406e5447",
        "colab": {
          "base_uri": "https://localhost:8080/",
          "height": 34
        }
      },
      "source": [
        "mae_test_L = mean_absolute_error(Y_test, ytest_pred_L)\n",
        "mae_test_L"
      ],
      "execution_count": 0,
      "outputs": [
        {
          "output_type": "execute_result",
          "data": {
            "text/plain": [
              "14604.093582677842"
            ]
          },
          "metadata": {
            "tags": []
          },
          "execution_count": 126
        }
      ]
    },
    {
      "cell_type": "code",
      "metadata": {
        "id": "PT7lxJ2TM-_B",
        "colab_type": "code",
        "outputId": "fd51cca2-ad5e-4b4b-c806-2ad03d77a6f3",
        "colab": {
          "base_uri": "https://localhost:8080/",
          "height": 34
        }
      },
      "source": [
        "med_test_L = median_absolute_error(Y_test, ytest_pred_L)\n",
        "med_test_L"
      ],
      "execution_count": 0,
      "outputs": [
        {
          "output_type": "execute_result",
          "data": {
            "text/plain": [
              "10761.16"
            ]
          },
          "metadata": {
            "tags": []
          },
          "execution_count": 127
        }
      ]
    },
    {
      "cell_type": "code",
      "metadata": {
        "id": "M_7stVaeM-8y",
        "colab_type": "code",
        "colab": {}
      },
      "source": [
        "model=\"LinearRegression\"\n",
        "model_list_mae.append(model)\n",
        "model_list_med.append(model)\n",
        "mae_list.append(mae_test_L)\n",
        "med_list.append(med_test_L)"
      ],
      "execution_count": 0,
      "outputs": []
    },
    {
      "cell_type": "code",
      "metadata": {
        "id": "U06rve2yM-3P",
        "colab_type": "code",
        "outputId": "098fcd2a-325d-4e6e-87d7-4073fe357ff0",
        "colab": {
          "base_uri": "https://localhost:8080/",
          "height": 522
        }
      },
      "source": [
        "'''Visualizing train and test mean absolute error and median absolute error '''\n",
        "\n",
        "plt.figure(figsize = (7,6))\n",
        "plt.xticks(rotation=45)\n",
        "plt.title('Error Vs Train_Test data')\n",
        "plt.ylabel('Error')\n",
        "plt.xlabel('Train_Test data')\n",
        "x_number_list = [ \"Train_mean_absolute error\", \"Test_mean_absolute_error\", \"Train_median_absolute_error\", \"Test_median absolute error\" ]\n",
        "y_number_list = [mae_valid_L, mae_test_L,med_valid_L,med_test_L]\n",
        "sns.barplot(x = x_number_list,y = y_number_list)\n",
        " \n"
      ],
      "execution_count": 0,
      "outputs": [
        {
          "output_type": "execute_result",
          "data": {
            "text/plain": [
              "<matplotlib.axes._subplots.AxesSubplot at 0x7f936f9d3860>"
            ]
          },
          "metadata": {
            "tags": []
          },
          "execution_count": 129
        },
        {
          "output_type": "display_data",
          "data": {
            "image/png": "[encoded data removed]",
            "text/plain": [
              "<Figure size 504x432 with 1 Axes>"
            ]
          },
          "metadata": {
            "tags": []
          }
        }
      ]
    },
    {
      "cell_type": "markdown",
      "metadata": {
        "id": "V04tWkpFNVym",
        "colab_type": "text"
      },
      "source": [
        "# **Build and Train a ExtraTree Regression model**"
      ]
    },
    {
      "cell_type": "code",
      "metadata": {
        "id": "zTDIB4IOM-1C",
        "colab_type": "code",
        "outputId": "10928a3a-96b2-4eee-a8cc-3336ee96e55e",
        "colab": {
          "base_uri": "https://localhost:8080/",
          "height": 134
        }
      },
      "source": [
        "from sklearn.ensemble import ExtraTreesRegressor\n",
        "# create a regressor object \n",
        "ETregr = ExtraTreesRegressor(max_depth=100, random_state=1, n_estimators=100)\n",
        "ETregr.fit(X_train, Y_train)"
      ],
      "execution_count": 0,
      "outputs": [
        {
          "output_type": "execute_result",
          "data": {
            "text/plain": [
              "ExtraTreesRegressor(bootstrap=False, criterion='mse', max_depth=100,\n",
              "                    max_features='auto', max_leaf_nodes=None,\n",
              "                    min_impurity_decrease=0.0, min_impurity_split=None,\n",
              "                    min_samples_leaf=1, min_samples_split=2,\n",
              "                    min_weight_fraction_leaf=0.0, n_estimators=100, n_jobs=None,\n",
              "                    oob_score=False, random_state=1, verbose=0,\n",
              "                    warm_start=False)"
            ]
          },
          "metadata": {
            "tags": []
          },
          "execution_count": 130
        }
      ]
    },
    {
      "cell_type": "code",
      "metadata": {
        "id": "1mn5rXMWNW-W",
        "colab_type": "code",
        "colab": {}
      },
      "source": [
        "y_pred_ET = ETregr.predict(X_valid)"
      ],
      "execution_count": 0,
      "outputs": []
    },
    {
      "cell_type": "code",
      "metadata": {
        "id": "02MGq-OeNXCS",
        "colab_type": "code",
        "outputId": "512c9530-1ed2-48de-f0f3-885a68019838",
        "colab": {
          "base_uri": "https://localhost:8080/",
          "height": 34
        }
      },
      "source": [
        "mae_valid_ET = mean_absolute_error(Y_valid, y_pred_ET)\n",
        "mae_valid_ET"
      ],
      "execution_count": 0,
      "outputs": [
        {
          "output_type": "execute_result",
          "data": {
            "text/plain": [
              "1872.7324147435754"
            ]
          },
          "metadata": {
            "tags": []
          },
          "execution_count": 132
        }
      ]
    },
    {
      "cell_type": "code",
      "metadata": {
        "id": "QuFuxoCzNW8H",
        "colab_type": "code",
        "outputId": "73d13bc3-908a-4b5e-fb92-0c77dcfe5f7a",
        "colab": {
          "base_uri": "https://localhost:8080/",
          "height": 34
        }
      },
      "source": [
        "med_valid_ET = median_absolute_error(Y_valid, y_pred_ET)\n",
        "med_valid_ET"
      ],
      "execution_count": 0,
      "outputs": [
        {
          "output_type": "execute_result",
          "data": {
            "text/plain": [
              "719.6393999999709"
            ]
          },
          "metadata": {
            "tags": []
          },
          "execution_count": 133
        }
      ]
    },
    {
      "cell_type": "markdown",
      "metadata": {
        "id": "je0mutM3RdAD",
        "colab_type": "text"
      },
      "source": [
        "**Feature importance**"
      ]
    },
    {
      "cell_type": "code",
      "metadata": {
        "id": "xGgM8WPHNW54",
        "colab_type": "code",
        "outputId": "36aafbd4-965c-4f2a-d52f-ad1858e97f10",
        "colab": {
          "base_uri": "https://localhost:8080/",
          "height": 409
        }
      },
      "source": [
        "'''Calculate feature importance scores with your model'''\n",
        "\n",
        "feat_imps = pd.DataFrame(ETregr.feature_importances_, index = X_train.columns,\n",
        "                                    columns=['Importance score']).sort_values('Importance score',ascending=False)\n",
        "feat_imps = feat_imps.reset_index()\n",
        "feat_imps.columns = [\"Feature\",\"Importance Score\"]\n",
        "plt.figure(figsize = (8,6))\n",
        "sns.barplot(x = \"Importance Score\",y = \"Feature\",data = feat_imps,orient = \"h\")"
      ],
      "execution_count": 0,
      "outputs": [
        {
          "output_type": "execute_result",
          "data": {
            "text/plain": [
              "<matplotlib.axes._subplots.AxesSubplot at 0x7f936e8449b0>"
            ]
          },
          "metadata": {
            "tags": []
          },
          "execution_count": 134
        },
        {
          "output_type": "display_data",
          "data": {
            "image/png": "[encoded data removed]",
            "text/plain": [
              "<Figure size 576x432 with 1 Axes>"
            ]
          },
          "metadata": {
            "tags": []
          }
        }
      ]
    },
    {
      "cell_type": "markdown",
      "metadata": {
        "id": "l6FnR_PvNkiW",
        "colab_type": "text"
      },
      "source": [
        "**Validating on test data**"
      ]
    },
    {
      "cell_type": "code",
      "metadata": {
        "id": "2EW1W_aLNmzA",
        "colab_type": "code",
        "colab": {}
      },
      "source": [
        "ytest_pred_ET = ETregr.predict(X_test)"
      ],
      "execution_count": 0,
      "outputs": []
    },
    {
      "cell_type": "code",
      "metadata": {
        "id": "1CrrWBibNnJN",
        "colab_type": "code",
        "outputId": "db798da6-6ed2-4551-af77-8b4e9ce2339c",
        "colab": {
          "base_uri": "https://localhost:8080/",
          "height": 34
        }
      },
      "source": [
        "mae_test_ET = mean_absolute_error(Y_test, ytest_pred_ET)\n",
        "mae_test_ET"
      ],
      "execution_count": 0,
      "outputs": [
        {
          "output_type": "execute_result",
          "data": {
            "text/plain": [
              "1774.7862435618513"
            ]
          },
          "metadata": {
            "tags": []
          },
          "execution_count": 136
        }
      ]
    },
    {
      "cell_type": "code",
      "metadata": {
        "id": "3jnJKoCYNnM_",
        "colab_type": "code",
        "outputId": "8381d248-a0d4-4a13-9509-3d9a33faa0c5",
        "colab": {
          "base_uri": "https://localhost:8080/",
          "height": 34
        }
      },
      "source": [
        "med_test_ET = median_absolute_error(Y_test, ytest_pred_ET)\n",
        "med_test_ET"
      ],
      "execution_count": 0,
      "outputs": [
        {
          "output_type": "execute_result",
          "data": {
            "text/plain": [
              "742.0529499999943"
            ]
          },
          "metadata": {
            "tags": []
          },
          "execution_count": 137
        }
      ]
    },
    {
      "cell_type": "code",
      "metadata": {
        "id": "jGgR8TSHNnGn",
        "colab_type": "code",
        "colab": {}
      },
      "source": [
        "model=\"ExtraTreesRegressor\"\n",
        "model_list_mae.append(model)\n",
        "model_list_med.append(model)\n",
        "mae_list.append(mae_test_ET)\n",
        "med_list.append(med_test_ET)"
      ],
      "execution_count": 0,
      "outputs": []
    },
    {
      "cell_type": "code",
      "metadata": {
        "id": "qWTCPbNsNmwO",
        "colab_type": "code",
        "outputId": "5a6db693-3d53-4492-c66f-ddc3f058c167",
        "colab": {
          "base_uri": "https://localhost:8080/",
          "height": 522
        }
      },
      "source": [
        "'''Visualizing train and test mean absolute error and median absolute error '''\n",
        "\n",
        "plt.figure(figsize = (7,6))\n",
        "plt.xticks(rotation=45)\n",
        "plt.title('Error Vs Train_Test data')\n",
        "plt.ylabel('Error')\n",
        "plt.xlabel('Train_Test data')\n",
        "x_number_list = [ \"Train_mean_absolute error\", \"Test_mean_absolute_error\", \"Train_median_absolute_error\", \"Test_median absolute error\" ]\n",
        "y_number_list = [mae_valid_ET, mae_test_ET,med_valid_ET,med_test_ET]\n",
        "sns.barplot(x = x_number_list,y = y_number_list)"
      ],
      "execution_count": 0,
      "outputs": [
        {
          "output_type": "execute_result",
          "data": {
            "text/plain": [
              "<matplotlib.axes._subplots.AxesSubplot at 0x7f936e8256a0>"
            ]
          },
          "metadata": {
            "tags": []
          },
          "execution_count": 139
        },
        {
          "output_type": "display_data",
          "data": {
            "image/png": "[encoded data removed]",
            "text/plain": [
              "<Figure size 504x432 with 1 Axes>"
            ]
          },
          "metadata": {
            "tags": []
          }
        }
      ]
    },
    {
      "cell_type": "markdown",
      "metadata": {
        "id": "isoUosHdN4ez",
        "colab_type": "text"
      },
      "source": [
        "# **Exploring the mean absolute error achieved by each model**"
      ]
    },
    {
      "cell_type": "code",
      "metadata": {
        "id": "6fqw2jz-NmuC",
        "colab_type": "code",
        "outputId": "08d91e55-0ed2-4d14-bd2f-81a9df35cb60",
        "colab": {
          "base_uri": "https://localhost:8080/",
          "height": 225
        }
      },
      "source": [
        "mean_performance_df =  pd.DataFrame({\"Model\": model_list_mae,\"Mean absolute error\": mae_list})\n",
        "mean_performance_df"
      ],
      "execution_count": 0,
      "outputs": [
        {
          "output_type": "execute_result",
          "data": {
            "text/html": [
              "<div>\n",
              "<style scoped>\n",
              "    .dataframe tbody tr th:only-of-type {\n",
              "        vertical-align: middle;\n",
              "    }\n",
              "\n",
              "    .dataframe tbody tr th {\n",
              "        vertical-align: top;\n",
              "    }\n",
              "\n",
              "    .dataframe thead th {\n",
              "        text-align: right;\n",
              "    }\n",
              "</style>\n",
              "<table border=\"1\" class=\"dataframe\">\n",
              "  <thead>\n",
              "    <tr style=\"text-align: right;\">\n",
              "      <th></th>\n",
              "      <th>Model</th>\n",
              "      <th>Mean absolute error</th>\n",
              "    </tr>\n",
              "  </thead>\n",
              "  <tbody>\n",
              "    <tr>\n",
              "      <th>0</th>\n",
              "      <td>KNeighborsRegressor</td>\n",
              "      <td>2150.880575</td>\n",
              "    </tr>\n",
              "    <tr>\n",
              "      <th>1</th>\n",
              "      <td>Deep Neural Network</td>\n",
              "      <td>13262.234067</td>\n",
              "    </tr>\n",
              "    <tr>\n",
              "      <th>2</th>\n",
              "      <td>XGBRegressor</td>\n",
              "      <td>1762.682679</td>\n",
              "    </tr>\n",
              "    <tr>\n",
              "      <th>3</th>\n",
              "      <td>RandomForestRegressor</td>\n",
              "      <td>1698.304238</td>\n",
              "    </tr>\n",
              "    <tr>\n",
              "      <th>4</th>\n",
              "      <td>LinearRegression</td>\n",
              "      <td>14604.093583</td>\n",
              "    </tr>\n",
              "    <tr>\n",
              "      <th>5</th>\n",
              "      <td>ExtraTreesRegressor</td>\n",
              "      <td>1774.786244</td>\n",
              "    </tr>\n",
              "  </tbody>\n",
              "</table>\n",
              "</div>"
            ],
            "text/plain": [
              "                   Model  Mean absolute error\n",
              "0    KNeighborsRegressor          2150.880575\n",
              "1    Deep Neural Network         13262.234067\n",
              "2           XGBRegressor          1762.682679\n",
              "3  RandomForestRegressor          1698.304238\n",
              "4       LinearRegression         14604.093583\n",
              "5    ExtraTreesRegressor          1774.786244"
            ]
          },
          "metadata": {
            "tags": []
          },
          "execution_count": 140
        }
      ]
    },
    {
      "cell_type": "code",
      "metadata": {
        "id": "laf_Q2F9Nmqy",
        "colab_type": "code",
        "outputId": "4343ffc9-ec60-49e3-e481-d7681e8f584c",
        "colab": {
          "base_uri": "https://localhost:8080/",
          "height": 118
        }
      },
      "source": [
        "# Sorting data based on mean absolute error\n",
        "mean_performance_df.sort_values(by = [\"Mean absolute error\"],inplace = True)\n",
        "print(mean_performance_df.head(5))"
      ],
      "execution_count": 0,
      "outputs": [
        {
          "output_type": "stream",
          "text": [
            "                   Model  Mean absolute error\n",
            "3  RandomForestRegressor          1698.304238\n",
            "2           XGBRegressor          1762.682679\n",
            "5    ExtraTreesRegressor          1774.786244\n",
            "0    KNeighborsRegressor          2150.880575\n",
            "1    Deep Neural Network         13262.234067\n"
          ],
          "name": "stdout"
        }
      ]
    },
    {
      "cell_type": "code",
      "metadata": {
        "id": "7J0myCgcOMWP",
        "colab_type": "code",
        "outputId": "d6e4767b-7045-484c-d3d6-1ddcf50770f6",
        "colab": {
          "base_uri": "https://localhost:8080/",
          "height": 505
        }
      },
      "source": [
        "plt.figure(figsize = (8,6))\n",
        "plt.xticks(rotation=45)\n",
        "plt.title('Machine Learning Models Vs Mean absolute error')\n",
        "sns.barplot(x = \"Model\",y =\"Mean absolute error\",data = mean_performance_df)"
      ],
      "execution_count": 0,
      "outputs": [
        {
          "output_type": "execute_result",
          "data": {
            "text/plain": [
              "<matplotlib.axes._subplots.AxesSubplot at 0x7f936e7fe128>"
            ]
          },
          "metadata": {
            "tags": []
          },
          "execution_count": 142
        },
        {
          "output_type": "display_data",
          "data": {
            "image/png": "[encoded data removed]",
            "text/plain": [
              "<Figure size 576x432 with 1 Axes>"
            ]
          },
          "metadata": {
            "tags": []
          }
        }
      ]
    },
    {
      "cell_type": "markdown",
      "metadata": {
        "id": "Z6ddCk-9OTrj",
        "colab_type": "text"
      },
      "source": [
        "# **Exploring the median absolute error achieved by each model**"
      ]
    },
    {
      "cell_type": "code",
      "metadata": {
        "id": "EWwNClwTOMaC",
        "colab_type": "code",
        "outputId": "4c303cfb-0e9a-486d-fdb1-ade679d9a0a9",
        "colab": {
          "base_uri": "https://localhost:8080/",
          "height": 225
        }
      },
      "source": [
        "median_performance_df =  pd.DataFrame({\"Model\": model_list_med,\"Median absolute error\": med_list})\n",
        "median_performance_df"
      ],
      "execution_count": 0,
      "outputs": [
        {
          "output_type": "execute_result",
          "data": {
            "text/html": [
              "<div>\n",
              "<style scoped>\n",
              "    .dataframe tbody tr th:only-of-type {\n",
              "        vertical-align: middle;\n",
              "    }\n",
              "\n",
              "    .dataframe tbody tr th {\n",
              "        vertical-align: top;\n",
              "    }\n",
              "\n",
              "    .dataframe thead th {\n",
              "        text-align: right;\n",
              "    }\n",
              "</style>\n",
              "<table border=\"1\" class=\"dataframe\">\n",
              "  <thead>\n",
              "    <tr style=\"text-align: right;\">\n",
              "      <th></th>\n",
              "      <th>Model</th>\n",
              "      <th>Median absolute error</th>\n",
              "    </tr>\n",
              "  </thead>\n",
              "  <tbody>\n",
              "    <tr>\n",
              "      <th>0</th>\n",
              "      <td>KNeighborsRegressor</td>\n",
              "      <td>819.045000</td>\n",
              "    </tr>\n",
              "    <tr>\n",
              "      <th>1</th>\n",
              "      <td>Deep Neural Network</td>\n",
              "      <td>6488.158799</td>\n",
              "    </tr>\n",
              "    <tr>\n",
              "      <th>2</th>\n",
              "      <td>XGBRegressor</td>\n",
              "      <td>725.924755</td>\n",
              "    </tr>\n",
              "    <tr>\n",
              "      <th>3</th>\n",
              "      <td>RandomForestRegressor</td>\n",
              "      <td>692.946250</td>\n",
              "    </tr>\n",
              "    <tr>\n",
              "      <th>4</th>\n",
              "      <td>LinearRegression</td>\n",
              "      <td>10761.160000</td>\n",
              "    </tr>\n",
              "    <tr>\n",
              "      <th>5</th>\n",
              "      <td>ExtraTreesRegressor</td>\n",
              "      <td>742.052950</td>\n",
              "    </tr>\n",
              "  </tbody>\n",
              "</table>\n",
              "</div>"
            ],
            "text/plain": [
              "                   Model  Median absolute error\n",
              "0    KNeighborsRegressor             819.045000\n",
              "1    Deep Neural Network            6488.158799\n",
              "2           XGBRegressor             725.924755\n",
              "3  RandomForestRegressor             692.946250\n",
              "4       LinearRegression           10761.160000\n",
              "5    ExtraTreesRegressor             742.052950"
            ]
          },
          "metadata": {
            "tags": []
          },
          "execution_count": 143
        }
      ]
    },
    {
      "cell_type": "code",
      "metadata": {
        "id": "pQ7tOUBpOaiO",
        "colab_type": "code",
        "outputId": "ce19c12b-9bae-42da-86ff-bdaff494b3f0",
        "colab": {
          "base_uri": "https://localhost:8080/",
          "height": 118
        }
      },
      "source": [
        "# Sorting data based on median absolute error\n",
        "median_performance_df.sort_values(by = [\"Median absolute error\"],inplace = True)\n",
        "print(median_performance_df.head(5))"
      ],
      "execution_count": 0,
      "outputs": [
        {
          "output_type": "stream",
          "text": [
            "                   Model  Median absolute error\n",
            "3  RandomForestRegressor             692.946250\n",
            "2           XGBRegressor             725.924755\n",
            "5    ExtraTreesRegressor             742.052950\n",
            "0    KNeighborsRegressor             819.045000\n",
            "1    Deep Neural Network            6488.158799\n"
          ],
          "name": "stdout"
        }
      ]
    },
    {
      "cell_type": "code",
      "metadata": {
        "id": "ZESkZZzLOaut",
        "colab_type": "code",
        "outputId": "dddc1850-85ab-4312-8b63-a8908daf737c",
        "colab": {
          "base_uri": "https://localhost:8080/",
          "height": 505
        }
      },
      "source": [
        "plt.figure(figsize = (8,6))\n",
        "plt.xticks(rotation=45)\n",
        "plt.title('Machine Learning Models Vs Median absolute error')\n",
        "sns.barplot(x = \"Model\",y =\"Median absolute error\",data = median_performance_df)"
      ],
      "execution_count": 0,
      "outputs": [
        {
          "output_type": "execute_result",
          "data": {
            "text/plain": [
              "<matplotlib.axes._subplots.AxesSubplot at 0x7f936e76b940>"
            ]
          },
          "metadata": {
            "tags": []
          },
          "execution_count": 145
        },
        {
          "output_type": "display_data",
          "data": {
            "image/png": "[encoded data removed]",
            "text/plain": [
              "<Figure size 576x432 with 1 Axes>"
            ]
          },
          "metadata": {
            "tags": []
          }
        }
      ]
    }
  ]
}
